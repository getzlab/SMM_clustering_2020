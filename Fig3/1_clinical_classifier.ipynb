{
 "cells": [
  {
   "cell_type": "code",
   "execution_count": 1,
   "metadata": {},
   "outputs": [
    {
     "name": "stderr",
     "output_type": "stream",
     "text": [
      "/home/sanand/anaconda3/envs/r_env/lib/python3.7/site-packages/sklearn/utils/deprecation.py:143: FutureWarning: The sklearn.neighbors.base module is  deprecated in version 0.22 and will be removed in version 0.24. The corresponding classes / functions should instead be imported from sklearn.neighbors. Anything that cannot be imported from sklearn.neighbors is now part of the private API.\n",
      "  warnings.warn(message, FutureWarning)\n"
     ]
    }
   ],
   "source": [
    "import pandas as pd\n",
    "import sys\n",
    "import os\n",
    "import numpy as np\n",
    "import signatureanalyzer as sa\n",
    "from tqdm import tqdm\n",
    "import matplotlib.pyplot as plt\n",
    "import seaborn as sns\n",
    "\n",
    "sys.path.append(\"../funcs\")\n",
    "\n",
    "from features import snvs, deletions, amplifications, translocations, hyperdiploidy, trisomies\n",
    "from features import filt_snvs\n",
    "from features import pathways, biallelic, myc, patient_metadata, clinical_metadata\n",
    "import smm_utils as smm\n",
    "import plot as pl"
   ]
  },
  {
   "cell_type": "code",
   "execution_count": 2,
   "metadata": {},
   "outputs": [],
   "source": [
    "DFCI_SURVIVAL = \"../data/raw/SMM_progression_analysis_final_manuscript2.txt\"\n",
    "MAYO_COHORT = \"../data/val_cohorts/Mayo_cohort_SMM_cleaned.txt\"\n",
    "NYC_COHORT = \"../data/val_cohorts/GM_cohort_SMM_cleaned.txt\""
   ]
  },
  {
   "cell_type": "markdown",
   "metadata": {},
   "source": [
    "## 1. Load SMM Cohort\n",
    "---"
   ]
  },
  {
   "cell_type": "code",
   "execution_count": 3,
   "metadata": {},
   "outputs": [],
   "source": [
    "def _assign_severity(x):\n",
    "    if x in (\"C2\",\"C3\",\"C5\"):\n",
    "        return 'High'\n",
    "    elif x in (\"C1\",\"C6\"):\n",
    "        return \"Intermediate\"\n",
    "    else:\n",
    "        return \"Low\"\n",
    "    \n",
    "def _assign_mayo(x):\n",
    "    if x==1:\n",
    "        return \"Low\"\n",
    "    elif x==2:\n",
    "        return \"Intermediate\"\n",
    "    elif x==3:\n",
    "        return \"High\"\n",
    "    else:\n",
    "        return None"
   ]
  },
  {
   "cell_type": "code",
   "execution_count": 4,
   "metadata": {},
   "outputs": [],
   "source": [
    "X_v2_df = pd.read_csv(os.path.join(\"../Fig1/supplement\", \"table3a_smm_filt_v2_matrix.tsv\"), sep='\\t', index_col=0)\n",
    "clust_df = pd.read_csv(os.path.join(\"../Fig1/supplement\", \"table4_sample_cluster_id.tsv\"), sep='\\t', index_col=0)\n",
    "\n",
    "clust_df['high_risk_clust'] = clust_df['consensus_nmf'].isin([\"C2\",\"C3\",\"C5\"])\n",
    "clust_df['risk_lvl'] = clust_df['consensus_nmf'].apply(lambda x: _assign_severity(x))\n",
    "clust_df['risk_bin'] = clust_df['risk_lvl'].apply(lambda x: \"High\" if x==\"High\" else \"Low\")"
   ]
  },
  {
   "cell_type": "code",
   "execution_count": 5,
   "metadata": {},
   "outputs": [],
   "source": [
    "X_df = pd.read_csv(\"../data/raw/SMM_study_final_list_detailed_github.txt\", sep='\\t',index_col=0)\n",
    "\n",
    "numerical_entries = (snvs, deletions, amplifications + ['6p_amp'], translocations, hyperdiploidy, myc, trisomies)\n",
    "metadata_entries = (patient_metadata, pathways, clinical_metadata)\n",
    "\n",
    "num_set = [i for sub in numerical_entries for i in sub]\n",
    "meta_set = [i for sub in metadata_entries for i in sub]\n",
    "\n",
    "num_set.remove(\"amp_11_isolated\")\n",
    "\n",
    "X_detailed_df = X_df[num_set].loc[clust_df.index].fillna(0).astype(int)\n",
    "X_detailed_df = X_detailed_df.join(X_v2_df[\"amp_11_isolated\"])"
   ]
  },
  {
   "cell_type": "code",
   "execution_count": 6,
   "metadata": {},
   "outputs": [],
   "source": [
    "MIN_FEATS = 3\n",
    "FILTER_TRISOMIES = True"
   ]
  },
  {
   "cell_type": "markdown",
   "metadata": {},
   "source": [
    "## 2. Align Mayo Cohort\n",
    "---"
   ]
  },
  {
   "cell_type": "code",
   "execution_count": 7,
   "metadata": {},
   "outputs": [],
   "source": [
    "CNV_DICT = {\n",
    "    'del_1p':'1p_del',\n",
    "    'gain_1q':'1q_gain',\n",
    "    '3 gain':'Tri_3',\n",
    "    '4 gain':'Tri_4',\n",
    "    '5 gain':'Tri_5',\n",
    "    'gain_6p':'6p_amp',\n",
    "    'del_6q':'6q_del',\n",
    "    '7 gain':'Tri_7',\n",
    "    '8p del':'del_8p', \n",
    "    '8q gain':'8q24 amp', \n",
    "    '9 gain':'Tri_9',\n",
    "    '11 gain':'Tri_11',\n",
    "    'del_13q':'13q del',\n",
    "    'del_14q':'14q_del',\n",
    "    #'14q gain':'', \n",
    "    '15q gain':'Tri_15',\n",
    "    'del_16q':'16q_del',\n",
    "    #'16 gain':'', \n",
    "    '17 gain':'Tri_17',\n",
    "    'del_17p':'17p_del',\n",
    "    'del_18q':'del_18q',\n",
    "    '18 gain':'Tri_18', \n",
    "    '19 gain':'Tri_19', \n",
    "    '21 gain':'Tri_21',\n",
    "    '22q del':'del_22q',\n",
    "    'HRD.CALL':'HRD',\n",
    "    'amp8q24':'8q24 amp', \n",
    "}\n",
    "\n",
    "TX_DICT = {\n",
    "    'tx.11.14':\"t(11;14)\", \n",
    "    'tx4.14':\"t(4;14)\", \n",
    "    'tx.14.16':\"t(14;16)\",\n",
    "    'tx.14.20':\"t(14;20)\", \n",
    "    'tx.6.14':\"t(6;14)\",\n",
    "}\n",
    "\n",
    "PATIENT = [\n",
    "    'Progression_Status', 'Sample_ID', 'AGE', 'SEX', 'Rev_surv','New_Mayo_model','TTP','Cohort'\n",
    "]"
   ]
  },
  {
   "cell_type": "code",
   "execution_count": 8,
   "metadata": {},
   "outputs": [
    {
     "name": "stdout",
     "output_type": "stream",
     "text": [
      "47 features intersecting\n"
     ]
    }
   ],
   "source": [
    "mayo_val_df = pd.read_csv(MAYO_COHORT, sep='\\t').set_index(\"Patient_ID\")\n",
    "mayo_val_df.columns = [x.strip() for x in mayo_val_df.columns]\n",
    "mayo_val_df = mayo_val_df.rename(columns=CNV_DICT).rename(columns=TX_DICT)\n",
    "mayo_val_df[\"New_Mayo_model\"] = mayo_val_df[\"New_Mayo_model\"].apply(lambda x: _assign_mayo(x))\n",
    "mayo_val_df['Cohort'] = \"MAYO\"\n",
    "\n",
    "# Intersecting Features\n",
    "features_to_use = np.intersect1d(mayo_val_df.columns, X_detailed_df.columns)\n",
    "if FILTER_TRISOMIES: \n",
    "    features_to_use = set(features_to_use)-{x for x in features_to_use if x.startswith('Tri')}\n",
    "features_to_use = list(features_to_use)\n",
    "\n",
    "print(\"{} features intersecting\".format(len(features_to_use)))\n",
    "\n",
    "# Remove MM Cases\n",
    "mayo_val_df = mayo_val_df.drop(index=['s_28251','s_29115','s_29170','s_29181'])\n",
    "\n",
    "# Create Matrices\n",
    "mayo_val_X_df = mayo_val_df[features_to_use]\n",
    "mayo_val_patient_df = mayo_val_df[PATIENT]"
   ]
  },
  {
   "cell_type": "markdown",
   "metadata": {},
   "source": [
    "## 3. Align NY Cohort\n",
    "---"
   ]
  },
  {
   "cell_type": "code",
   "execution_count": 9,
   "metadata": {},
   "outputs": [],
   "source": [
    "CNV_DICT = {\n",
    "    'Chr_2_gain':'Chr_2_gain', \n",
    "    'Tri_3':'Tri_3', \n",
    "    'Tri_4':'Tri_4', \n",
    "    'Tri_5':'Tri_5', \n",
    "    'Tri_7':'Tri_7', \n",
    "    'Tri_9':'Tri_9', \n",
    "    'Tri_11':'Tri_11', \n",
    "    'Tri_15':'Tri_15', \n",
    "    'Tri_17':'Tri_17', \n",
    "    'Tri_18':'Tri_18', \n",
    "    'Tri_19':'Tri_19', \n",
    "    'Tri_21':'Tri_21',\n",
    "    'gain_1q':'1q_gain', \n",
    "    'amp_2p':'2p_amp', \n",
    "    'amp8q24':'8q24 amp', \n",
    "    'del_1p':'1p_del', \n",
    "    'del_4q':'del_4q', \n",
    "    'del_6q':'6q_del', \n",
    "    'del_8p':'del_8p', \n",
    "    'del_11q':'11q_del', \n",
    "    'del_13q':'13q del', \n",
    "    'del_14q':'14q_del', \n",
    "    'del_16q':'16q_del', \n",
    "    'del_17p':'17p_del', \n",
    "    'del_20q':'del_20q', \n",
    "    'del_22q':'del_22q',\n",
    "}\n",
    "\n",
    "PATIENT = ['Cohort', 'Sequencing_platform', 'Other_ID', 'Sample_ID', 'AGE', 'SEX',\n",
    "          'Progression_Status', 'TTP', 'Survival_status', \n",
    "            'OS_time', 'Rev_surv', 'New_Mayo_model'\n",
    "]"
   ]
  },
  {
   "cell_type": "code",
   "execution_count": 10,
   "metadata": {},
   "outputs": [
    {
     "name": "stdout",
     "output_type": "stream",
     "text": [
      "57 features intersecting\n"
     ]
    }
   ],
   "source": [
    "ny_val_df = pd.read_csv(NYC_COHORT, sep='\\t').set_index(\"Patient_ID\")\n",
    "ny_val_df.columns = [x.strip() for x in ny_val_df.columns]\n",
    "ny_val_df = ny_val_df.rename(columns=CNV_DICT)\n",
    "ny_val_df[\"New_Mayo_model\"] = ny_val_df[\"New_Mayo_model\"].apply(lambda x: _assign_mayo(x))\n",
    "ny_val_df['Cohort'] = \"NYU\"\n",
    "\n",
    "# Intersecting Features\n",
    "features_to_use = np.intersect1d(ny_val_df.columns, X_detailed_df.columns)\n",
    "if FILTER_TRISOMIES:\n",
    "    features_to_use = set(features_to_use)-{x for x in features_to_use if x.startswith('Tri')}\n",
    "features_to_use = list(features_to_use)\n",
    "\n",
    "print(\"{} features intersecting\".format(len(features_to_use)))\n",
    "\n",
    "# Create Matrices\n",
    "ny_val_X_df = ny_val_df[features_to_use]\n",
    "ny_val_patient_df = ny_val_df[PATIENT]"
   ]
  },
  {
   "cell_type": "markdown",
   "metadata": {},
   "source": [
    "## 4. Intersect Feature Space\n",
    "---"
   ]
  },
  {
   "cell_type": "code",
   "execution_count": 11,
   "metadata": {},
   "outputs": [],
   "source": [
    "def _p(s):\n",
    "    print(\"Ours: \")\n",
    "    print([x for x in X_detailed_df if s in x])\n",
    "    \n",
    "    print(\"Mayo: \")\n",
    "    print([x for x in mayo_val_df if s in x])\n",
    "    \n",
    "    print(\"NYU: \")\n",
    "    print([x for x in ny_val_df if s in x])"
   ]
  },
  {
   "cell_type": "code",
   "execution_count": 12,
   "metadata": {},
   "outputs": [
    {
     "name": "stdout",
     "output_type": "stream",
     "text": [
      "    * 36/42 features found in  >= 3 patients in DFCI \n",
      " \n",
      " DFCI: 214 samples x 36 features.\n",
      " NYU: 75 samples x 36 features.\n",
      " MAYO: 67 samples x 36 features.\n"
     ]
    }
   ],
   "source": [
    "features_to_use = set(np.intersect1d(mayo_val_X_df.columns, ny_val_X_df.columns))\n",
    "\n",
    "# Filter by min features\n",
    "gb = X_detailed_df[features_to_use].sum(0).sort_values() >= MIN_FEATS\n",
    "features_to_use = list(gb[gb].index) + ['t(6;14)']\n",
    "print(\"    * {}/{} features found in  >= {} patients in DFCI \\n \".format(len(features_to_use), gb.shape[0], MIN_FEATS))\n",
    "\n",
    "# Filtered Matrices\n",
    "train_df = X_detailed_df[features_to_use]\n",
    "test_ny_df = ny_val_X_df[features_to_use]\n",
    "test_mayo_df = mayo_val_X_df[features_to_use]\n",
    "\n",
    "print(\" DFCI: {} samples x {} features.\".format(*train_df.shape))\n",
    "print(\" NYU: {} samples x {} features.\".format(*test_ny_df.shape))\n",
    "print(\" MAYO: {} samples x {} features.\".format(*test_mayo_df.shape))"
   ]
  },
  {
   "cell_type": "markdown",
   "metadata": {},
   "source": [
    "## 5. Train RF Classifier\n",
    "---"
   ]
  },
  {
   "cell_type": "code",
   "execution_count": 13,
   "metadata": {},
   "outputs": [],
   "source": [
    "from sklearn.ensemble import RandomForestClassifier\n",
    "from sklearn.model_selection import cross_val_score\n",
    "from sklearn.model_selection import RepeatedStratifiedKFold\n",
    "from sklearn.model_selection import RandomizedSearchCV\n",
    "from sklearn.model_selection import GridSearchCV\n",
    "from sklearn.metrics import accuracy_score"
   ]
  },
  {
   "cell_type": "markdown",
   "metadata": {},
   "source": [
    "#### Initial Model\n",
    "\n",
    "* No hyperparameter optimization"
   ]
  },
  {
   "cell_type": "code",
   "execution_count": 14,
   "metadata": {},
   "outputs": [],
   "source": [
    "LABEL = 'consensus_nmf'"
   ]
  },
  {
   "cell_type": "code",
   "execution_count": 15,
   "metadata": {},
   "outputs": [
    {
     "name": "stdout",
     "output_type": "stream",
     "text": [
      "DFCI Training Accuracy: 0.861 (0.046)\n"
     ]
    },
    {
     "data": {
      "text/plain": [
       "RandomForestClassifier(random_state=42)"
      ]
     },
     "execution_count": 15,
     "metadata": {},
     "output_type": "execute_result"
    }
   ],
   "source": [
    "model_clust = RandomForestClassifier(random_state=42)\n",
    "\n",
    "# Cross validation\n",
    "cv = RepeatedStratifiedKFold(n_splits=5, n_repeats=10, random_state=42)\n",
    "\n",
    "# Score\n",
    "n_scores = cross_val_score(\n",
    "    model_clust, \n",
    "    train_df.values, \n",
    "    clust_df[LABEL].values, \n",
    "    scoring='accuracy', \n",
    "    cv=cv, \n",
    "    n_jobs=-1, \n",
    "    error_score='raise'\n",
    ")\n",
    "\n",
    "# report performance\n",
    "print('DFCI Training Accuracy: %.3f (%.3f)' % (np.mean(n_scores), np.std(n_scores)))\n",
    "model_clust.fit(train_df.values, clust_df[LABEL].values)"
   ]
  },
  {
   "cell_type": "code",
   "execution_count": 16,
   "metadata": {},
   "outputs": [],
   "source": [
    "scores_df = pd.DataFrame(n_scores,columns=['scores'])\n",
    "scores_df['model'] = 'No Hyperparamter Optimization'"
   ]
  },
  {
   "cell_type": "code",
   "execution_count": 60,
   "metadata": {},
   "outputs": [
    {
     "data": {
      "text/html": [
       "<div>\n",
       "<style scoped>\n",
       "    .dataframe tbody tr th:only-of-type {\n",
       "        vertical-align: middle;\n",
       "    }\n",
       "\n",
       "    .dataframe tbody tr th {\n",
       "        vertical-align: top;\n",
       "    }\n",
       "\n",
       "    .dataframe thead th {\n",
       "        text-align: right;\n",
       "    }\n",
       "</style>\n",
       "<table border=\"1\" class=\"dataframe\">\n",
       "  <thead>\n",
       "    <tr style=\"text-align: right;\">\n",
       "      <th></th>\n",
       "      <th>No Hyperparamter Optimization</th>\n",
       "    </tr>\n",
       "  </thead>\n",
       "  <tbody>\n",
       "    <tr>\n",
       "      <th>bootstrap</th>\n",
       "      <td>True</td>\n",
       "    </tr>\n",
       "    <tr>\n",
       "      <th>ccp_alpha</th>\n",
       "      <td>0</td>\n",
       "    </tr>\n",
       "    <tr>\n",
       "      <th>class_weight</th>\n",
       "      <td>None</td>\n",
       "    </tr>\n",
       "    <tr>\n",
       "      <th>criterion</th>\n",
       "      <td>gini</td>\n",
       "    </tr>\n",
       "    <tr>\n",
       "      <th>max_depth</th>\n",
       "      <td>None</td>\n",
       "    </tr>\n",
       "    <tr>\n",
       "      <th>max_features</th>\n",
       "      <td>auto</td>\n",
       "    </tr>\n",
       "    <tr>\n",
       "      <th>max_leaf_nodes</th>\n",
       "      <td>None</td>\n",
       "    </tr>\n",
       "    <tr>\n",
       "      <th>max_samples</th>\n",
       "      <td>None</td>\n",
       "    </tr>\n",
       "    <tr>\n",
       "      <th>min_impurity_decrease</th>\n",
       "      <td>0</td>\n",
       "    </tr>\n",
       "    <tr>\n",
       "      <th>min_impurity_split</th>\n",
       "      <td>None</td>\n",
       "    </tr>\n",
       "    <tr>\n",
       "      <th>min_samples_leaf</th>\n",
       "      <td>1</td>\n",
       "    </tr>\n",
       "    <tr>\n",
       "      <th>min_samples_split</th>\n",
       "      <td>2</td>\n",
       "    </tr>\n",
       "    <tr>\n",
       "      <th>min_weight_fraction_leaf</th>\n",
       "      <td>0</td>\n",
       "    </tr>\n",
       "    <tr>\n",
       "      <th>n_estimators</th>\n",
       "      <td>100</td>\n",
       "    </tr>\n",
       "    <tr>\n",
       "      <th>n_jobs</th>\n",
       "      <td>None</td>\n",
       "    </tr>\n",
       "    <tr>\n",
       "      <th>oob_score</th>\n",
       "      <td>False</td>\n",
       "    </tr>\n",
       "    <tr>\n",
       "      <th>random_state</th>\n",
       "      <td>42</td>\n",
       "    </tr>\n",
       "    <tr>\n",
       "      <th>verbose</th>\n",
       "      <td>0</td>\n",
       "    </tr>\n",
       "    <tr>\n",
       "      <th>warm_start</th>\n",
       "      <td>False</td>\n",
       "    </tr>\n",
       "  </tbody>\n",
       "</table>\n",
       "</div>"
      ],
      "text/plain": [
       "                         No Hyperparamter Optimization\n",
       "bootstrap                                         True\n",
       "ccp_alpha                                            0\n",
       "class_weight                                      None\n",
       "criterion                                         gini\n",
       "max_depth                                         None\n",
       "max_features                                      auto\n",
       "max_leaf_nodes                                    None\n",
       "max_samples                                       None\n",
       "min_impurity_decrease                                0\n",
       "min_impurity_split                                None\n",
       "min_samples_leaf                                     1\n",
       "min_samples_split                                    2\n",
       "min_weight_fraction_leaf                             0\n",
       "n_estimators                                       100\n",
       "n_jobs                                            None\n",
       "oob_score                                        False\n",
       "random_state                                        42\n",
       "verbose                                              0\n",
       "warm_start                                       False"
      ]
     },
     "execution_count": 60,
     "metadata": {},
     "output_type": "execute_result"
    }
   ],
   "source": [
    "rf_results = dict()\n",
    "rf_results['No Hyperparamter Optimization'] = model_clust.get_params()\n",
    "rf_results = pd.DataFrame.from_dict(rf_results)\n",
    "rf_results"
   ]
  },
  {
   "cell_type": "markdown",
   "metadata": {},
   "source": [
    "#### Randomized Search\n",
    "\n",
    "* first start by sweeping a large hyperparameter space"
   ]
  },
  {
   "cell_type": "code",
   "execution_count": 50,
   "metadata": {},
   "outputs": [],
   "source": [
    "n_estimators = [int(x) for x in np.linspace(start = 50, stop = 400, num = 8)]\n",
    "max_features = ['auto', 'sqrt']\n",
    "max_depth = [None, 5, 10, 15, 20]\n",
    "min_samples_split = [2, 3, 4]\n",
    "min_samples_leaf = [1, 2, 3]\n",
    "bootstrap = [True, False]\n",
    "\n",
    "random_grid = {'n_estimators': n_estimators,\n",
    "               'max_features': max_features,\n",
    "               'max_depth': max_depth,\n",
    "               'min_samples_split': min_samples_split,\n",
    "               'min_samples_leaf': min_samples_leaf,\n",
    "               'bootstrap': bootstrap}"
   ]
  },
  {
   "cell_type": "code",
   "execution_count": 51,
   "metadata": {},
   "outputs": [
    {
     "name": "stdout",
     "output_type": "stream",
     "text": [
      "Fitting 3 folds for each of 100 candidates, totalling 300 fits\n"
     ]
    },
    {
     "name": "stderr",
     "output_type": "stream",
     "text": [
      "[Parallel(n_jobs=-1)]: Using backend LokyBackend with 8 concurrent workers.\n",
      "[Parallel(n_jobs=-1)]: Done  25 tasks      | elapsed:    3.0s\n",
      "[Parallel(n_jobs=-1)]: Done 146 tasks      | elapsed:   11.4s\n",
      "[Parallel(n_jobs=-1)]: Done 300 out of 300 | elapsed:   22.0s finished\n"
     ]
    },
    {
     "data": {
      "text/plain": [
       "RandomizedSearchCV(cv=3, estimator=RandomForestClassifier(random_state=42),\n",
       "                   n_iter=100, n_jobs=-1,\n",
       "                   param_distributions={'bootstrap': [True, False],\n",
       "                                        'max_depth': [None, 5, 10, 15, 20],\n",
       "                                        'max_features': ['auto', 'sqrt'],\n",
       "                                        'min_samples_leaf': [1, 2, 3],\n",
       "                                        'min_samples_split': [2, 3, 4],\n",
       "                                        'n_estimators': [50, 100, 150, 200, 250,\n",
       "                                                         300, 350, 400]},\n",
       "                   random_state=42, verbose=2)"
      ]
     },
     "execution_count": 51,
     "metadata": {},
     "output_type": "execute_result"
    }
   ],
   "source": [
    "model = RandomForestClassifier(random_state=42)\n",
    "\n",
    "rf_random = RandomizedSearchCV(\n",
    "    estimator = model, \n",
    "    param_distributions = random_grid, \n",
    "    n_iter = 100, \n",
    "    cv = 3, \n",
    "    verbose=2, \n",
    "    random_state=42, \n",
    "    n_jobs = -1,\n",
    ")\n",
    "\n",
    "# Fit the random search model\n",
    "rf_random.fit(train_df.values, clust_df[LABEL].values)"
   ]
  },
  {
   "cell_type": "code",
   "execution_count": 61,
   "metadata": {},
   "outputs": [
    {
     "data": {
      "text/plain": [
       "{'n_estimators': 100,\n",
       " 'min_samples_split': 3,\n",
       " 'min_samples_leaf': 2,\n",
       " 'max_features': 'sqrt',\n",
       " 'max_depth': 10,\n",
       " 'bootstrap': False}"
      ]
     },
     "execution_count": 61,
     "metadata": {},
     "output_type": "execute_result"
    }
   ],
   "source": [
    "rf_random.best_params_"
   ]
  },
  {
   "cell_type": "markdown",
   "metadata": {},
   "source": [
    "#### Grid Search CV\n",
    "\n",
    "* CV grid search over a constrained hyperparameter space"
   ]
  },
  {
   "cell_type": "code",
   "execution_count": 72,
   "metadata": {},
   "outputs": [
    {
     "name": "stdout",
     "output_type": "stream",
     "text": [
      "Fitting 5 folds for each of 576 candidates, totalling 2880 fits\n"
     ]
    },
    {
     "name": "stderr",
     "output_type": "stream",
     "text": [
      "[Parallel(n_jobs=-1)]: Using backend LokyBackend with 8 concurrent workers.\n",
      "[Parallel(n_jobs=-1)]: Done  34 tasks      | elapsed:    1.2s\n",
      "[Parallel(n_jobs=-1)]: Done 276 tasks      | elapsed:    7.6s\n",
      "[Parallel(n_jobs=-1)]: Done 682 tasks      | elapsed:   18.3s\n",
      "[Parallel(n_jobs=-1)]: Done 1248 tasks      | elapsed:   33.2s\n",
      "[Parallel(n_jobs=-1)]: Done 1978 tasks      | elapsed:   56.5s\n",
      "[Parallel(n_jobs=-1)]: Done 2880 out of 2880 | elapsed:  1.4min finished\n"
     ]
    },
    {
     "data": {
      "text/plain": [
       "GridSearchCV(cv=5, estimator=RandomForestClassifier(random_state=42), n_jobs=-1,\n",
       "             param_grid={'bootstrap': [False, True],\n",
       "                         'max_depth': [None, 9, 10, 11],\n",
       "                         'max_features': ['sqrt', 'auto'],\n",
       "                         'min_samples_leaf': [2, 3, 4],\n",
       "                         'min_samples_split': [2, 3, 4],\n",
       "                         'n_estimators': [90, 100, 110, 120]},\n",
       "             verbose=2)"
      ]
     },
     "execution_count": 72,
     "metadata": {},
     "output_type": "execute_result"
    }
   ],
   "source": [
    "# Create the parameter grid based on the results of random search \n",
    "param_grid = {\n",
    "    'bootstrap': [False,True],\n",
    "    'max_depth': [None,9,10,11],\n",
    "    'max_features': ['sqrt','auto'],\n",
    "    'min_samples_leaf': [2,3,4],\n",
    "    'min_samples_split': [2,3,4],\n",
    "    'n_estimators': [90,100,110,120]\n",
    "}\n",
    "\n",
    "# Create a based model\n",
    "rf = RandomForestClassifier(random_state=42)\n",
    "\n",
    "# Instantiate the grid search model\n",
    "grid_search = GridSearchCV(\n",
    "    estimator = rf, \n",
    "    param_grid = param_grid, \n",
    "    cv = 5, \n",
    "    n_jobs = -1, \n",
    "    verbose = 2\n",
    ")\n",
    "grid_search.fit(train_df.values, clust_df[LABEL].values)"
   ]
  },
  {
   "cell_type": "code",
   "execution_count": 73,
   "metadata": {},
   "outputs": [
    {
     "data": {
      "text/plain": [
       "{'bootstrap': False,\n",
       " 'max_depth': 9,\n",
       " 'max_features': 'sqrt',\n",
       " 'min_samples_leaf': 4,\n",
       " 'min_samples_split': 2,\n",
       " 'n_estimators': 120}"
      ]
     },
     "execution_count": 73,
     "metadata": {},
     "output_type": "execute_result"
    }
   ],
   "source": [
    "grid_search.best_params_"
   ]
  },
  {
   "cell_type": "markdown",
   "metadata": {},
   "source": [
    "#### Hyperparameter Tuned RF\n",
    "\n",
    "* using best params"
   ]
  },
  {
   "cell_type": "code",
   "execution_count": 89,
   "metadata": {},
   "outputs": [
    {
     "name": "stdout",
     "output_type": "stream",
     "text": [
      "Accuracy: 0.853 (0.056)\n"
     ]
    }
   ],
   "source": [
    "best_grid = grid_search.best_estimator_\n",
    "\n",
    "# Cross validation\n",
    "cv = RepeatedStratifiedKFold(n_splits=5, n_repeats=10, random_state=42)\n",
    "\n",
    "# Score\n",
    "n_scores = cross_val_score(\n",
    "    best_grid, \n",
    "    train_df.values, \n",
    "    clust_df[LABEL].values, \n",
    "    scoring='accuracy', \n",
    "    cv=cv, \n",
    "    n_jobs=-1, \n",
    "    error_score='raise'\n",
    ")\n",
    "\n",
    "# report performance\n",
    "print('Accuracy: %.3f (%.3f)' % (np.mean(n_scores), np.std(n_scores)))"
   ]
  },
  {
   "cell_type": "code",
   "execution_count": 94,
   "metadata": {},
   "outputs": [],
   "source": [
    "scores_grid_df = pd.DataFrame(n_scores,columns=['scores'])\n",
    "scores_grid_df['model'] = 'Hyperparamter Optimization'\n",
    "scores_df = pd.concat((scores_df,scores_grid_df))"
   ]
  },
  {
   "cell_type": "code",
   "execution_count": 142,
   "metadata": {},
   "outputs": [
    {
     "name": "stdout",
     "output_type": "stream",
     "text": [
      "p-value annotation legend:\n",
      "ns: 5.00e-02 < p <= 1.00e+00\n",
      "*: 1.00e-02 < p <= 5.00e-02\n",
      "**: 1.00e-03 < p <= 1.00e-02\n",
      "***: 1.00e-04 < p <= 1.00e-03\n",
      "****: p <= 1.00e-04\n",
      "\n",
      "No Hyperparamter Optimization v.s. Hyperparamter Optimization: Mann-Whitney-Wilcoxon test two-sided with Bonferroni correction, P_val=2.968e-01 U_stat=1.401e+03\n"
     ]
    },
    {
     "data": {
      "image/png": "[encoded data removed]",
      "text/plain": [
       "<Figure size 288x288 with 1 Axes>"
      ]
     },
     "metadata": {
      "needs_background": "light"
     },
     "output_type": "display_data"
    }
   ],
   "source": [
    "from statannot import add_stat_annotation\n",
    "\n",
    "fig,ax = plt.subplots(figsize=(4,4))\n",
    "\n",
    "sns.stripplot(data=scores_df, x='model', y='scores', ax=ax, edgecolor='k', linewidth=1, s=5, alpha=0.5)\n",
    "sns.violinplot(data=scores_df, x='model', y='scores', ax=ax, color='white')\n",
    "ax.set_ylabel(\"CV Accuracy\", fontsize=14)\n",
    "ax.set_xlabel(\"\")\n",
    "ax.set_xticklabels([\"No Optim\",\"Optim\"], fontsize=14)\n",
    "\n",
    "test_results = add_stat_annotation(\n",
    "    ax, data=scores_df, x='model', y='scores',\n",
    "    box_pairs=[(\"No Hyperparamter Optimization\", \"Hyperparamter Optimization\")],\n",
    "    test='Mann-Whitney', text_format='star',\n",
    "    loc='outside', verbose=2, text_offset=2)\n",
    "\n",
    "ax.set_ylim(None,1.15)\n",
    "plt.savefig(\"figures/CV_accuracy_comparison.pdf\", dpi=100, bbox_inches='tight')"
   ]
  },
  {
   "cell_type": "code",
   "execution_count": 17,
   "metadata": {},
   "outputs": [],
   "source": [
    "### Within margin of error for improvement of classifier.\n",
    "### Default to original model\n",
    "clust_df['consensus_nmf_pred'] = model_clust.predict(train_df.values)\n",
    "mayo_val_patient_df[LABEL] = model_clust.predict(test_mayo_df.values)\n",
    "ny_val_patient_df[LABEL] = model_clust.predict(test_ny_df.values)"
   ]
  },
  {
   "cell_type": "code",
   "execution_count": 141,
   "metadata": {},
   "outputs": [],
   "source": [
    "_d = dict()\n",
    "_d['Hyperparamter Optimization'] = best_grid.get_params()\n",
    "rf_results = rf_results.join(pd.DataFrame.from_dict(_d))\n",
    "rf_results.to_csv(\"supplement/tableX_rf_params.tsv\", sep='\\t')"
   ]
  },
  {
   "cell_type": "markdown",
   "metadata": {},
   "source": [
    "## 6. Feature Importance\n",
    "---"
   ]
  },
  {
   "cell_type": "code",
   "execution_count": 91,
   "metadata": {},
   "outputs": [],
   "source": [
    "feats_df = pd.DataFrame(model_clust.feature_importances_, index=train_df.columns, columns=['weight'])\n",
    "feats_df['n'] = X_detailed_df.sum(0)"
   ]
  },
  {
   "cell_type": "code",
   "execution_count": 99,
   "metadata": {},
   "outputs": [
    {
     "data": {
      "text/plain": [
       "<function adjustText.adjust_text(texts, x=None, y=None, add_objects=None, ax=None, expand_text=(1.05, 1.2), expand_points=(1.05, 1.2), expand_objects=(1.05, 1.2), expand_align=(1.05, 1.2), autoalign='xy', va='center', ha='center', force_text=(0.1, 0.25), force_points=(0.2, 0.5), force_objects=(0.1, 0.25), lim=500, precision=0.01, only_move={'points': 'xy', 'text': 'xy', 'objects': 'xy'}, text_from_text=True, text_from_points=True, save_steps=False, save_prefix='', save_format='png', add_step_numbers=True, on_basemap=False, *args, **kwargs)>"
      ]
     },
     "execution_count": 99,
     "metadata": {},
     "output_type": "execute_result"
    }
   ],
   "source": [
    "from adjustText import adjust_text\n",
    "\n",
    "adjust_text"
   ]
  },
  {
   "cell_type": "code",
   "execution_count": 113,
   "metadata": {},
   "outputs": [],
   "source": [
    "from typing import Union\n",
    "\n",
    "def labeled_scatterplot(\n",
    "    df: pd.DataFrame, \n",
    "    xlab: str, \n",
    "    ylab: str, \n",
    "    ax: plt.axes = None, \n",
    "    figsize: tuple = (6,6), \n",
    "    xlim: Union[None, float] = None, \n",
    "    ylim: Union[None,float] = None, \n",
    "    lab_size:int = 8\n",
    "    ):\n",
    "    \"\"\"\n",
    "    Labeled Scatterplot.\n",
    "    \"\"\"\n",
    "    from adjustText import adjust_text\n",
    "\n",
    "    assert xlab in df, \"{} not in input dataframe\".format(xlab)\n",
    "    assert ylab in df, \"{} not in input dataframe\".format(ylab)\n",
    "    \n",
    "    if ax is None:\n",
    "        fig,ax = plt.subplots(figsize=figsize)\n",
    "    \n",
    "    if xlim is None:\n",
    "        xlim = np.max(df[xlab])\n",
    "    if ylim is None:\n",
    "        ylim = np.max(df[ylab])\n",
    "        \n",
    "    ax.scatter(\n",
    "        feats_df[xlab], \n",
    "        feats_df[ylab], \n",
    "        s=50, \n",
    "        c='lightblue', \n",
    "        edgecolor='black', \n",
    "        alpha=0.5\n",
    "    )\n",
    "\n",
    "    texts = list()\n",
    "    for i,txt in enumerate(feats_df.index):\n",
    "        if feats_df.iloc[i][xlab] > xlim or feats_df.iloc[i][ylab] > ylim:\n",
    "            texts.append(\n",
    "                ax.text(\n",
    "                    feats_df.iloc[i][xlab], \n",
    "                    feats_df.iloc[i][ylab], \n",
    "                    txt, \n",
    "                    ha='center', \n",
    "                    va='center', \n",
    "                    fontsize=lab_size,\n",
    "                    #bbox=dict(facecolor='white', edgecolor='lightgrey', boxstyle='round', alpha=0.2)\n",
    "                )\n",
    "            )\n",
    "    \n",
    "    ax.set_xlim([-40,None])\n",
    "    ax.set_ylim([-.04,None])\n",
    "    \n",
    "    if len(texts)>0:\n",
    "        ax.axhline(ylim, c='grey', alpha=0.8, linewidth=0.25)\n",
    "        ax.axvline(xlim, c='grey', alpha=0.8, linewidth=0.25)\n",
    "        adjust_text(texts, arrowprops=dict(arrowstyle=\"-\", color='grey', lw=0.3))\n",
    "\n",
    "    ax.set_xlabel(\"# in Dataset\", fontsize=14)\n",
    "    ax.set_ylabel(\"Feature Importance in RF Classifier\", fontsize=14)\n",
    "    \n",
    "    return fig"
   ]
  },
  {
   "cell_type": "code",
   "execution_count": 115,
   "metadata": {},
   "outputs": [
    {
     "data": {
      "image/png": "[encoded data removed]",
      "text/plain": [
       "<Figure size 432x432 with 1 Axes>"
      ]
     },
     "metadata": {
      "needs_background": "light"
     },
     "output_type": "display_data"
    }
   ],
   "source": [
    "_ = labeled_scatterplot(feats_df, \"n\", \"weight\", xlim=0, ylim=0)\n",
    "plt.savefig(\"figures/SX_RF_feat_importance.pdf\", dpi=100, bbox_inches='tight')"
   ]
  },
  {
   "cell_type": "code",
   "execution_count": 94,
   "metadata": {},
   "outputs": [
    {
     "data": {
      "text/html": [
       "<div>\n",
       "<style scoped>\n",
       "    .dataframe tbody tr th:only-of-type {\n",
       "        vertical-align: middle;\n",
       "    }\n",
       "\n",
       "    .dataframe tbody tr th {\n",
       "        vertical-align: top;\n",
       "    }\n",
       "\n",
       "    .dataframe thead th {\n",
       "        text-align: right;\n",
       "    }\n",
       "</style>\n",
       "<table border=\"1\" class=\"dataframe\">\n",
       "  <thead>\n",
       "    <tr style=\"text-align: right;\">\n",
       "      <th></th>\n",
       "      <th>weight</th>\n",
       "      <th>n</th>\n",
       "    </tr>\n",
       "  </thead>\n",
       "  <tbody>\n",
       "    <tr>\n",
       "      <th>HRD</th>\n",
       "      <td>0.155627</td>\n",
       "      <td>116</td>\n",
       "    </tr>\n",
       "    <tr>\n",
       "      <th>13q del</th>\n",
       "      <td>0.117040</td>\n",
       "      <td>101</td>\n",
       "    </tr>\n",
       "    <tr>\n",
       "      <th>16q_del</th>\n",
       "      <td>0.098496</td>\n",
       "      <td>45</td>\n",
       "    </tr>\n",
       "    <tr>\n",
       "      <th>1q_gain</th>\n",
       "      <td>0.093800</td>\n",
       "      <td>61</td>\n",
       "    </tr>\n",
       "    <tr>\n",
       "      <th>t(11;14)</th>\n",
       "      <td>0.092987</td>\n",
       "      <td>23</td>\n",
       "    </tr>\n",
       "    <tr>\n",
       "      <th>KRAS</th>\n",
       "      <td>0.082983</td>\n",
       "      <td>33</td>\n",
       "    </tr>\n",
       "    <tr>\n",
       "      <th>6q_del</th>\n",
       "      <td>0.047503</td>\n",
       "      <td>29</td>\n",
       "    </tr>\n",
       "    <tr>\n",
       "      <th>14q_del</th>\n",
       "      <td>0.040965</td>\n",
       "      <td>29</td>\n",
       "    </tr>\n",
       "    <tr>\n",
       "      <th>del_22q</th>\n",
       "      <td>0.022163</td>\n",
       "      <td>25</td>\n",
       "    </tr>\n",
       "    <tr>\n",
       "      <th>t(4;14)</th>\n",
       "      <td>0.022145</td>\n",
       "      <td>21</td>\n",
       "    </tr>\n",
       "    <tr>\n",
       "      <th>NRAS</th>\n",
       "      <td>0.020581</td>\n",
       "      <td>16</td>\n",
       "    </tr>\n",
       "    <tr>\n",
       "      <th>t(14;20)</th>\n",
       "      <td>0.015685</td>\n",
       "      <td>6</td>\n",
       "    </tr>\n",
       "    <tr>\n",
       "      <th>2p_amp</th>\n",
       "      <td>0.015437</td>\n",
       "      <td>9</td>\n",
       "    </tr>\n",
       "    <tr>\n",
       "      <th>t(14;16)</th>\n",
       "      <td>0.015185</td>\n",
       "      <td>5</td>\n",
       "    </tr>\n",
       "    <tr>\n",
       "      <th>del_8p</th>\n",
       "      <td>0.014064</td>\n",
       "      <td>20</td>\n",
       "    </tr>\n",
       "    <tr>\n",
       "      <th>del_4q</th>\n",
       "      <td>0.012463</td>\n",
       "      <td>8</td>\n",
       "    </tr>\n",
       "    <tr>\n",
       "      <th>LTB</th>\n",
       "      <td>0.012236</td>\n",
       "      <td>6</td>\n",
       "    </tr>\n",
       "    <tr>\n",
       "      <th>FAM46C</th>\n",
       "      <td>0.012071</td>\n",
       "      <td>9</td>\n",
       "    </tr>\n",
       "    <tr>\n",
       "      <th>HIST1H1E</th>\n",
       "      <td>0.010990</td>\n",
       "      <td>6</td>\n",
       "    </tr>\n",
       "    <tr>\n",
       "      <th>1p_del</th>\n",
       "      <td>0.009025</td>\n",
       "      <td>15</td>\n",
       "    </tr>\n",
       "    <tr>\n",
       "      <th>TRAF3</th>\n",
       "      <td>0.008724</td>\n",
       "      <td>4</td>\n",
       "    </tr>\n",
       "    <tr>\n",
       "      <th>TP53</th>\n",
       "      <td>0.008129</td>\n",
       "      <td>5</td>\n",
       "    </tr>\n",
       "    <tr>\n",
       "      <th>del_20q</th>\n",
       "      <td>0.007998</td>\n",
       "      <td>12</td>\n",
       "    </tr>\n",
       "    <tr>\n",
       "      <th>DIS3</th>\n",
       "      <td>0.006712</td>\n",
       "      <td>7</td>\n",
       "    </tr>\n",
       "    <tr>\n",
       "      <th>BRAF</th>\n",
       "      <td>0.006618</td>\n",
       "      <td>8</td>\n",
       "    </tr>\n",
       "    <tr>\n",
       "      <th>MAFB</th>\n",
       "      <td>0.006513</td>\n",
       "      <td>3</td>\n",
       "    </tr>\n",
       "    <tr>\n",
       "      <th>17p_del</th>\n",
       "      <td>0.006321</td>\n",
       "      <td>10</td>\n",
       "    </tr>\n",
       "    <tr>\n",
       "      <th>8q24 amp</th>\n",
       "      <td>0.006301</td>\n",
       "      <td>10</td>\n",
       "    </tr>\n",
       "    <tr>\n",
       "      <th>MAX</th>\n",
       "      <td>0.005337</td>\n",
       "      <td>3</td>\n",
       "    </tr>\n",
       "    <tr>\n",
       "      <th>EGR1</th>\n",
       "      <td>0.005007</td>\n",
       "      <td>5</td>\n",
       "    </tr>\n",
       "    <tr>\n",
       "      <th>PRKD2</th>\n",
       "      <td>0.004234</td>\n",
       "      <td>4</td>\n",
       "    </tr>\n",
       "    <tr>\n",
       "      <th>MAF</th>\n",
       "      <td>0.004163</td>\n",
       "      <td>4</td>\n",
       "    </tr>\n",
       "    <tr>\n",
       "      <th>MYC_translocation</th>\n",
       "      <td>0.004144</td>\n",
       "      <td>4</td>\n",
       "    </tr>\n",
       "    <tr>\n",
       "      <th>ATM</th>\n",
       "      <td>0.003760</td>\n",
       "      <td>5</td>\n",
       "    </tr>\n",
       "    <tr>\n",
       "      <th>SETD2</th>\n",
       "      <td>0.003234</td>\n",
       "      <td>3</td>\n",
       "    </tr>\n",
       "    <tr>\n",
       "      <th>t(6;14)</th>\n",
       "      <td>0.001358</td>\n",
       "      <td>2</td>\n",
       "    </tr>\n",
       "  </tbody>\n",
       "</table>\n",
       "</div>"
      ],
      "text/plain": [
       "                     weight    n\n",
       "HRD                0.155627  116\n",
       "13q del            0.117040  101\n",
       "16q_del            0.098496   45\n",
       "1q_gain            0.093800   61\n",
       "t(11;14)           0.092987   23\n",
       "KRAS               0.082983   33\n",
       "6q_del             0.047503   29\n",
       "14q_del            0.040965   29\n",
       "del_22q            0.022163   25\n",
       "t(4;14)            0.022145   21\n",
       "NRAS               0.020581   16\n",
       "t(14;20)           0.015685    6\n",
       "2p_amp             0.015437    9\n",
       "t(14;16)           0.015185    5\n",
       "del_8p             0.014064   20\n",
       "del_4q             0.012463    8\n",
       "LTB                0.012236    6\n",
       "FAM46C             0.012071    9\n",
       "HIST1H1E           0.010990    6\n",
       "1p_del             0.009025   15\n",
       "TRAF3              0.008724    4\n",
       "TP53               0.008129    5\n",
       "del_20q            0.007998   12\n",
       "DIS3               0.006712    7\n",
       "BRAF               0.006618    8\n",
       "MAFB               0.006513    3\n",
       "17p_del            0.006321   10\n",
       "8q24 amp           0.006301   10\n",
       "MAX                0.005337    3\n",
       "EGR1               0.005007    5\n",
       "PRKD2              0.004234    4\n",
       "MAF                0.004163    4\n",
       "MYC_translocation  0.004144    4\n",
       "ATM                0.003760    5\n",
       "SETD2              0.003234    3\n",
       "t(6;14)            0.001358    2"
      ]
     },
     "execution_count": 94,
     "metadata": {},
     "output_type": "execute_result"
    }
   ],
   "source": [
    "feats_df.sort_values('weight', ascending=False)"
   ]
  },
  {
   "cell_type": "code",
   "execution_count": 20,
   "metadata": {},
   "outputs": [],
   "source": [
    "# Confusion Matrix"
   ]
  },
  {
   "cell_type": "code",
   "execution_count": 22,
   "metadata": {},
   "outputs": [],
   "source": [
    "def plot_cm(\n",
    "    s1,\n",
    "    s2,\n",
    "    figsize=(5,4),\n",
    "    normalize=False,\n",
    "    use_unique=False,\n",
    "    cmap=\"Blues\",\n",
    "    linewidth=0.25,\n",
    "    linecolor='lightgrey',\n",
    "    **kwargs):\n",
    "    \"\"\"\n",
    "    Plot simple confusion matrix.\n",
    "    Args:\n",
    "        * s1: series1\n",
    "        * s2: series2\n",
    "        * figsize: figure size\n",
    "        * normalize: normalize by s2\n",
    "            Normalizes dataframe\n",
    "    \"\"\"\n",
    "    from sklearn.metrics import confusion_matrix\n",
    "\n",
    "    labels = np.union1d(s1.astype('category').cat.categories, s2.astype('category').cat.categories)\n",
    "    cm = pd.DataFrame(data=confusion_matrix(s1,s2), index=labels, columns=labels)\n",
    "\n",
    "    if normalize:\n",
    "        cm = cm / cm.sum(1)[:,np.newaxis]\n",
    "        missing_left=True\n",
    "\n",
    "    fig,ax = plt.subplots(figsize=figsize)\n",
    "\n",
    "    cm = pd.DataFrame(cm)\n",
    "\n",
    "    if use_unique:\n",
    "        cm = cm.loc[s1.astype('category').cat.categories, s2.astype('category').cat.categories]\n",
    "\n",
    "    if normalize:\n",
    "        sns.heatmap(data=cm.dropna(), annot=True, ax=ax, fmt='0.2f', cmap=cmap, linewidth=linewidth, linecolor=linecolor, **kwargs)\n",
    "    else:\n",
    "        sns.heatmap(data=cm, annot=True, ax=ax, fmt='g', cmap=cmap, linewidth=linewidth, linecolor=linecolor, **kwargs)\n",
    "\n",
    "    ax.tick_params(axis=u'both', which=u'both',length=0)\n",
    "    ax.set_xlabel(s2.name, fontsize=figsize[1]*3)\n",
    "    ax.set_ylabel(s1.name, fontsize=figsize[1]*3)\n",
    "\n",
    "    for _, spine in ax.spines.items():\n",
    "        spine.set_visible(True)\n",
    "\n",
    "    return fig"
   ]
  },
  {
   "cell_type": "code",
   "execution_count": 86,
   "metadata": {},
   "outputs": [
    {
     "data": {
      "image/png": "[encoded data removed]",
      "text/plain": [
       "<Figure size 360x288 with 2 Axes>"
      ]
     },
     "metadata": {
      "needs_background": "light"
     },
     "output_type": "display_data"
    }
   ],
   "source": [
    "_ = plot_cm(clust_df['consensus_nmf'], clust_df['consensus_nmf_pred'])\n",
    "plt.xlabel(\"RF Classifier\", fontsize=12)\n",
    "plt.ylabel(\"Molecular Subtypes\", fontsize=12)\n",
    "plt.savefig(\"figures/training_CM.pdf\", dpi=100, bbox_inches='tight')"
   ]
  },
  {
   "cell_type": "code",
   "execution_count": 90,
   "metadata": {},
   "outputs": [
    {
     "data": {
      "image/png": "[encoded data removed]",
      "text/plain": [
       "<Figure size 720x288 with 2 Axes>"
      ]
     },
     "metadata": {
      "needs_background": "light"
     },
     "output_type": "display_data"
    }
   ],
   "source": [
    "fig,ax = plt.subplots(figsize=(10,4))\n",
    "\n",
    "sns.heatmap(\n",
    "    n_scores.reshape((5,10)),\n",
    "    cmap='Blues',\n",
    "    ax=ax,\n",
    "    linecolor='black',\n",
    "    linewidth=.5,\n",
    "    annot=True,\n",
    "    fmt=\".1%\"\n",
    ")\n",
    "\n",
    "for _, spine in ax.spines.items():\n",
    "    spine.set_visible(True)\n",
    "    \n",
    "ax.set_yticklabels(range(1,6), rotation=0)\n",
    "ax.set_xticklabels(range(1,11))\n",
    "\n",
    "ax.set_xlabel(\"# Repeats\", fontsize=14)\n",
    "ax.set_ylabel(\"K Fold\", fontsize=14)\n",
    "plt.savefig(\"figures/kfold_cv_accuracy.pdf\", dpi=100, bbox_inches='tight')"
   ]
  },
  {
   "cell_type": "markdown",
   "metadata": {},
   "source": [
    "## 7. Aggregate\n",
    "---"
   ]
  },
  {
   "cell_type": "code",
   "execution_count": 33,
   "metadata": {},
   "outputs": [],
   "source": [
    "mapping_df = pd.read_csv(\"../data/raw/SMM_study_sample_map.tsv\", sep='\\t',index_col=0)\n",
    "\n",
    "# DFCI Cohort\n",
    "dfci_patient_df = pd.read_csv(DFCI_SURVIVAL, sep='\\t').set_index(\"Patient_ID\")\n",
    "dfci_patient_df = dfci_patient_df.rename(index={\n",
    "    \"SMM83\":\"SMM_043_Tumor\",\n",
    "    \"SMM84\":\"SMM_025_Tumor\",\n",
    "    \"SMM97\":\"SMM_056_Tumor\",\n",
    "}).join(mapping_df[['id']]).set_index(\"id\")\n",
    "\n",
    "dfci_patient_df[\"New_Mayo_model\"] = dfci_patient_df[\"New_Mayo_model\"].apply(lambda x: _assign_mayo(x))"
   ]
  },
  {
   "cell_type": "code",
   "execution_count": 34,
   "metadata": {},
   "outputs": [],
   "source": [
    "comb_df = pd.concat([\n",
    "    dfci_patient_df,\n",
    "    mayo_val_patient_df,\n",
    "    ny_val_patient_df,\n",
    "\n",
    "])\n",
    "\n",
    "comb_df = comb_df[['Cohort','New_Mayo_model','SEX','consensus_nmf','TTP','Progression_Status','Rev_surv']]"
   ]
  },
  {
   "cell_type": "code",
   "execution_count": 35,
   "metadata": {},
   "outputs": [
    {
     "data": {
      "text/html": [
       "<div>\n",
       "<style scoped>\n",
       "    .dataframe tbody tr th:only-of-type {\n",
       "        vertical-align: middle;\n",
       "    }\n",
       "\n",
       "    .dataframe tbody tr th {\n",
       "        vertical-align: top;\n",
       "    }\n",
       "\n",
       "    .dataframe thead th {\n",
       "        text-align: right;\n",
       "    }\n",
       "</style>\n",
       "<table border=\"1\" class=\"dataframe\">\n",
       "  <thead>\n",
       "    <tr style=\"text-align: right;\">\n",
       "      <th></th>\n",
       "      <th>Cohort</th>\n",
       "      <th>New_Mayo_model</th>\n",
       "      <th>SEX</th>\n",
       "      <th>consensus_nmf</th>\n",
       "      <th>TTP</th>\n",
       "      <th>Progression_Status</th>\n",
       "      <th>Rev_surv</th>\n",
       "    </tr>\n",
       "  </thead>\n",
       "  <tbody>\n",
       "    <tr>\n",
       "      <th>GM_9</th>\n",
       "      <td>NYU</td>\n",
       "      <td>None</td>\n",
       "      <td>Female</td>\n",
       "      <td>C5</td>\n",
       "      <td>4.810404</td>\n",
       "      <td>1</td>\n",
       "      <td>0</td>\n",
       "    </tr>\n",
       "  </tbody>\n",
       "</table>\n",
       "</div>"
      ],
      "text/plain": [
       "     Cohort New_Mayo_model     SEX consensus_nmf       TTP  \\\n",
       "GM_9    NYU           None  Female            C5  4.810404   \n",
       "\n",
       "      Progression_Status  Rev_surv  \n",
       "GM_9                   1         0  "
      ]
     },
     "execution_count": 35,
     "metadata": {},
     "output_type": "execute_result"
    }
   ],
   "source": [
    "# Drop Missing Mayo Cohort with no Mayo 2020 Annotation\n",
    "comb_df[comb_df[\"New_Mayo_model\"].isna()]"
   ]
  },
  {
   "cell_type": "code",
   "execution_count": 36,
   "metadata": {},
   "outputs": [],
   "source": [
    "comb_df.to_csv(\"supplement/SMM_combined_subtypes_survival.tsv\", sep='\\t')"
   ]
  }
 ],
 "metadata": {
  "kernelspec": {
   "display_name": "Python 3",
   "language": "python",
   "name": "python3"
  },
  "language_info": {
   "codemirror_mode": {
    "name": "ipython",
    "version": 3
   },
   "file_extension": ".py",
   "mimetype": "text/x-python",
   "name": "python",
   "nbconvert_exporter": "python",
   "pygments_lexer": "ipython3",
   "version": "3.7.7"
  }
 },
 "nbformat": 4,
 "nbformat_minor": 4
}
