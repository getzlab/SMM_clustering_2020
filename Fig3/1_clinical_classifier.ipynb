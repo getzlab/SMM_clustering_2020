{
 "cells": [
  {
   "cell_type": "code",
   "execution_count": 1,
   "metadata": {},
   "outputs": [
    {
     "name": "stderr",
     "output_type": "stream",
     "text": [
      "/home/sanand/anaconda3/envs/r_env/lib/python3.7/site-packages/sklearn/utils/deprecation.py:143: FutureWarning: The sklearn.neighbors.base module is  deprecated in version 0.22 and will be removed in version 0.24. The corresponding classes / functions should instead be imported from sklearn.neighbors. Anything that cannot be imported from sklearn.neighbors is now part of the private API.\n",
      "  warnings.warn(message, FutureWarning)\n"
     ]
    }
   ],
   "source": [
    "import pandas as pd\n",
    "import sys\n",
    "import os\n",
    "import numpy as np\n",
    "import signatureanalyzer as sa\n",
    "from tqdm import tqdm\n",
    "import matplotlib.pyplot as plt\n",
    "import seaborn as sns\n",
    "\n",
    "sys.path.append(\"../funcs\")\n",
    "\n",
    "from features import snvs, deletions, amplifications, translocations, hyperdiploidy, trisomies\n",
    "from features import filt_snvs\n",
    "from features import pathways, biallelic, myc, patient_metadata, clinical_metadata\n",
    "import smm_utils as smm\n",
    "import plot as pl"
   ]
  },
  {
   "cell_type": "code",
   "execution_count": 2,
   "metadata": {},
   "outputs": [],
   "source": [
    "DFCI_SURVIVAL = \"../data/raw/SMM_progression_analysis_final_manuscript2.txt\"\n",
    "MAYO_COHORT = \"../data/val_cohorts/Mayo_cohort_SMM_cleaned.txt\"\n",
    "NYC_COHORT = \"../data/val_cohorts/GM_cohort_SMM_cleaned.txt\""
   ]
  },
  {
   "cell_type": "markdown",
   "metadata": {},
   "source": [
    "## 1. Load SMM Cohort\n",
    "---"
   ]
  },
  {
   "cell_type": "code",
   "execution_count": 3,
   "metadata": {},
   "outputs": [],
   "source": [
    "def _assign_severity(x):\n",
    "    if x in (\"C2\",\"C3\",\"C5\"):\n",
    "        return 'High'\n",
    "    elif x in (\"C1\",\"C6\"):\n",
    "        return \"Intermediate\"\n",
    "    else:\n",
    "        return \"Low\"\n",
    "    \n",
    "def _assign_mayo(x):\n",
    "    if x==1:\n",
    "        return \"Low\"\n",
    "    elif x==2:\n",
    "        return \"Intermediate\"\n",
    "    elif x==3:\n",
    "        return \"High\"\n",
    "    else:\n",
    "        return None"
   ]
  },
  {
   "cell_type": "code",
   "execution_count": 4,
   "metadata": {},
   "outputs": [],
   "source": [
    "X_v2_df = pd.read_csv(os.path.join(\"../Fig1/supplement\", \"table3a_smm_filt_v2_matrix.tsv\"), sep='\\t', index_col=0)\n",
    "clust_df = pd.read_csv(os.path.join(\"../Fig1/supplement\", \"table4_sample_cluster_id.tsv\"), sep='\\t', index_col=0)\n",
    "\n",
    "clust_df['high_risk_clust'] = clust_df['consensus_nmf'].isin([\"C2\",\"C3\",\"C5\"])\n",
    "clust_df['risk_lvl'] = clust_df['consensus_nmf'].apply(lambda x: _assign_severity(x))\n",
    "clust_df['risk_bin'] = clust_df['risk_lvl'].apply(lambda x: \"High\" if x==\"High\" else \"Low\")"
   ]
  },
  {
   "cell_type": "code",
   "execution_count": 5,
   "metadata": {},
   "outputs": [],
   "source": [
    "X_df = pd.read_csv(\"../data/raw/SMM_study_final_list_detailed_github.txt\", sep='\\t',index_col=0)\n",
    "\n",
    "numerical_entries = (snvs, deletions, amplifications + ['6p_amp'], translocations, hyperdiploidy, myc, trisomies)\n",
    "metadata_entries = (patient_metadata, pathways, clinical_metadata)\n",
    "\n",
    "num_set = [i for sub in numerical_entries for i in sub]\n",
    "meta_set = [i for sub in metadata_entries for i in sub]\n",
    "\n",
    "num_set.remove(\"amp_11_isolated\")\n",
    "\n",
    "X_detailed_df = X_df[num_set].loc[clust_df.index].fillna(0).astype(int)\n",
    "X_detailed_df = X_detailed_df.join(X_v2_df[\"amp_11_isolated\"])"
   ]
  },
  {
   "cell_type": "code",
   "execution_count": 6,
   "metadata": {},
   "outputs": [],
   "source": [
    "MIN_FEATS = 3\n",
    "FILTER_TRISOMIES = True"
   ]
  },
  {
   "cell_type": "markdown",
   "metadata": {},
   "source": [
    "## 2. Align Mayo Cohort\n",
    "---"
   ]
  },
  {
   "cell_type": "code",
   "execution_count": 7,
   "metadata": {},
   "outputs": [],
   "source": [
    "CNV_DICT = {\n",
    "    'del_1p':'1p_del',\n",
    "    'gain_1q':'1q_gain',\n",
    "    '3 gain':'Tri_3',\n",
    "    '4 gain':'Tri_4',\n",
    "    '5 gain':'Tri_5',\n",
    "    'gain_6p':'6p_amp',\n",
    "    'del_6q':'6q_del',\n",
    "    '7 gain':'Tri_7',\n",
    "    '8p del':'del_8p', \n",
    "    '8q gain':'8q24 amp', \n",
    "    '9 gain':'Tri_9',\n",
    "    '11 gain':'Tri_11',\n",
    "    'del_13q':'13q del',\n",
    "    'del_14q':'14q_del',\n",
    "    #'14q gain':'', \n",
    "    '15q gain':'Tri_15',\n",
    "    'del_16q':'16q_del',\n",
    "    #'16 gain':'', \n",
    "    '17 gain':'Tri_17',\n",
    "    'del_17p':'17p_del',\n",
    "    'del_18q':'del_18q',\n",
    "    '18 gain':'Tri_18', \n",
    "    '19 gain':'Tri_19', \n",
    "    '21 gain':'Tri_21',\n",
    "    '22q del':'del_22q',\n",
    "    'HRD.CALL':'HRD',\n",
    "    'amp8q24':'8q24 amp', \n",
    "}\n",
    "\n",
    "TX_DICT = {\n",
    "    'tx.11.14':\"t(11;14)\", \n",
    "    'tx4.14':\"t(4;14)\", \n",
    "    'tx.14.16':\"t(14;16)\",\n",
    "    'tx.14.20':\"t(14;20)\", \n",
    "    'tx.6.14':\"t(6;14)\",\n",
    "}\n",
    "\n",
    "PATIENT = [\n",
    "    'Progression_Status', 'Sample_ID', 'AGE', 'SEX', 'Rev_surv','New_Mayo_model','TTP','Cohort'\n",
    "]"
   ]
  },
  {
   "cell_type": "code",
   "execution_count": 8,
   "metadata": {},
   "outputs": [
    {
     "name": "stdout",
     "output_type": "stream",
     "text": [
      "47 features intersecting\n"
     ]
    }
   ],
   "source": [
    "mayo_val_df = pd.read_csv(MAYO_COHORT, sep='\\t').set_index(\"Patient_ID\")\n",
    "mayo_val_df.columns = [x.strip() for x in mayo_val_df.columns]\n",
    "mayo_val_df = mayo_val_df.rename(columns=CNV_DICT).rename(columns=TX_DICT)\n",
    "mayo_val_df[\"New_Mayo_model\"] = mayo_val_df[\"New_Mayo_model\"].apply(lambda x: _assign_mayo(x))\n",
    "mayo_val_df['Cohort'] = \"MAYO\"\n",
    "\n",
    "# Intersecting Features\n",
    "features_to_use = np.intersect1d(mayo_val_df.columns, X_detailed_df.columns)\n",
    "if FILTER_TRISOMIES: \n",
    "    features_to_use = set(features_to_use)-{x for x in features_to_use if x.startswith('Tri')}\n",
    "features_to_use = list(features_to_use)\n",
    "\n",
    "print(\"{} features intersecting\".format(len(features_to_use)))\n",
    "\n",
    "# Remove MM Cases\n",
    "mayo_val_df = mayo_val_df.drop(index=['s_28251','s_29115','s_29170','s_29181'])\n",
    "\n",
    "# Create Matrices\n",
    "mayo_val_X_df = mayo_val_df[features_to_use]\n",
    "mayo_val_patient_df = mayo_val_df[PATIENT]"
   ]
  },
  {
   "cell_type": "markdown",
   "metadata": {},
   "source": [
    "## 3. Align NY Cohort\n",
    "---"
   ]
  },
  {
   "cell_type": "code",
   "execution_count": 9,
   "metadata": {},
   "outputs": [],
   "source": [
    "CNV_DICT = {\n",
    "    'Chr_2_gain':'Chr_2_gain', \n",
    "    'Tri_3':'Tri_3', \n",
    "    'Tri_4':'Tri_4', \n",
    "    'Tri_5':'Tri_5', \n",
    "    'Tri_7':'Tri_7', \n",
    "    'Tri_9':'Tri_9', \n",
    "    'Tri_11':'Tri_11', \n",
    "    'Tri_15':'Tri_15', \n",
    "    'Tri_17':'Tri_17', \n",
    "    'Tri_18':'Tri_18', \n",
    "    'Tri_19':'Tri_19', \n",
    "    'Tri_21':'Tri_21',\n",
    "    'gain_1q':'1q_gain', \n",
    "    'amp_2p':'2p_amp', \n",
    "    'amp8q24':'8q24 amp', \n",
    "    'del_1p':'1p_del', \n",
    "    'del_4q':'del_4q', \n",
    "    'del_6q':'6q_del', \n",
    "    'del_8p':'del_8p', \n",
    "    'del_11q':'11q_del', \n",
    "    'del_13q':'13q del', \n",
    "    'del_14q':'14q_del', \n",
    "    'del_16q':'16q_del', \n",
    "    'del_17p':'17p_del', \n",
    "    'del_20q':'del_20q', \n",
    "    'del_22q':'del_22q',\n",
    "}\n",
    "\n",
    "PATIENT = ['Cohort', 'Sequencing_platform', 'Other_ID', 'Sample_ID', 'AGE', 'SEX',\n",
    "          'Progression_Status', 'TTP', 'Survival_status', \n",
    "            'OS_time', 'Rev_surv', 'New_Mayo_model'\n",
    "]"
   ]
  },
  {
   "cell_type": "code",
   "execution_count": 10,
   "metadata": {},
   "outputs": [
    {
     "name": "stdout",
     "output_type": "stream",
     "text": [
      "57 features intersecting\n"
     ]
    }
   ],
   "source": [
    "ny_val_df = pd.read_csv(NYC_COHORT, sep='\\t').set_index(\"Patient_ID\")\n",
    "ny_val_df.columns = [x.strip() for x in ny_val_df.columns]\n",
    "ny_val_df = ny_val_df.rename(columns=CNV_DICT)\n",
    "ny_val_df[\"New_Mayo_model\"] = ny_val_df[\"New_Mayo_model\"].apply(lambda x: _assign_mayo(x))\n",
    "ny_val_df['Cohort'] = \"NYU\"\n",
    "\n",
    "# Intersecting Features\n",
    "features_to_use = np.intersect1d(ny_val_df.columns, X_detailed_df.columns)\n",
    "if FILTER_TRISOMIES:\n",
    "    features_to_use = set(features_to_use)-{x for x in features_to_use if x.startswith('Tri')}\n",
    "features_to_use = list(features_to_use)\n",
    "\n",
    "print(\"{} features intersecting\".format(len(features_to_use)))\n",
    "\n",
    "# Create Matrices\n",
    "ny_val_X_df = ny_val_df[features_to_use]\n",
    "ny_val_patient_df = ny_val_df[PATIENT]"
   ]
  },
  {
   "cell_type": "markdown",
   "metadata": {},
   "source": [
    "## 4. Intersect Feature Space\n",
    "---"
   ]
  },
  {
   "cell_type": "code",
   "execution_count": 11,
   "metadata": {},
   "outputs": [],
   "source": [
    "def _p(s):\n",
    "    print(\"Ours: \")\n",
    "    print([x for x in X_detailed_df if s in x])\n",
    "    \n",
    "    print(\"Mayo: \")\n",
    "    print([x for x in mayo_val_df if s in x])\n",
    "    \n",
    "    print(\"NYU: \")\n",
    "    print([x for x in ny_val_df if s in x])"
   ]
  },
  {
   "cell_type": "code",
   "execution_count": 12,
   "metadata": {},
   "outputs": [
    {
     "name": "stdout",
     "output_type": "stream",
     "text": [
      "    * 36/42 features found in  >= 3 patients in DFCI \n",
      " \n",
      " DFCI: 214 samples x 36 features.\n",
      " NYU: 75 samples x 36 features.\n",
      " MAYO: 67 samples x 36 features.\n"
     ]
    }
   ],
   "source": [
    "features_to_use = set(np.intersect1d(mayo_val_X_df.columns, ny_val_X_df.columns))\n",
    "\n",
    "# Filter by min features\n",
    "gb = X_detailed_df[features_to_use].sum(0).sort_values() >= MIN_FEATS\n",
    "features_to_use = list(gb[gb].index) + ['t(6;14)']\n",
    "print(\"    * {}/{} features found in  >= {} patients in DFCI \\n \".format(len(features_to_use), gb.shape[0], MIN_FEATS))\n",
    "\n",
    "# Filtered Matrices\n",
    "train_df = X_detailed_df[features_to_use]\n",
    "test_ny_df = ny_val_X_df[features_to_use]\n",
    "test_mayo_df = mayo_val_X_df[features_to_use]\n",
    "\n",
    "print(\" DFCI: {} samples x {} features.\".format(*train_df.shape))\n",
    "print(\" NYU: {} samples x {} features.\".format(*test_ny_df.shape))\n",
    "print(\" MAYO: {} samples x {} features.\".format(*test_mayo_df.shape))"
   ]
  },
  {
   "cell_type": "markdown",
   "metadata": {},
   "source": [
    "## 5. Train RF Classifier\n",
    "---"
   ]
  },
  {
   "cell_type": "code",
   "execution_count": 13,
   "metadata": {},
   "outputs": [],
   "source": [
    "from sklearn.ensemble import RandomForestClassifier\n",
    "from sklearn.model_selection import cross_val_score\n",
    "from sklearn.model_selection import RepeatedStratifiedKFold\n",
    "from sklearn.model_selection import RandomizedSearchCV\n",
    "from sklearn.model_selection import GridSearchCV\n",
    "from sklearn.metrics import accuracy_score"
   ]
  },
  {
   "cell_type": "markdown",
   "metadata": {},
   "source": [
    "#### Initial Model\n",
    "\n",
    "* No hyperparameter optimization"
   ]
  },
  {
   "cell_type": "code",
   "execution_count": 14,
   "metadata": {},
   "outputs": [],
   "source": [
    "LABEL = 'risk_lvl'"
   ]
  },
  {
   "cell_type": "code",
   "execution_count": 15,
   "metadata": {
    "scrolled": true
   },
   "outputs": [
    {
     "name": "stdout",
     "output_type": "stream",
     "text": [
      "DFCI Training Accuracy: 0.911 (0.040)\n"
     ]
    }
   ],
   "source": [
    "model_risk = RandomForestClassifier(random_state=42)\n",
    "\n",
    "# Cross validation\n",
    "cv = RepeatedStratifiedKFold(n_splits=5, n_repeats=10, random_state=42)\n",
    "\n",
    "# Score\n",
    "n_scores = cross_val_score(\n",
    "    model_risk, \n",
    "    train_df.values, \n",
    "    clust_df[LABEL].values, \n",
    "    scoring='accuracy', \n",
    "    cv=cv, \n",
    "    n_jobs=-1, \n",
    "    error_score='raise'\n",
    ")\n",
    "\n",
    "# report performance\n",
    "print('DFCI Training Accuracy: %.3f (%.3f)' % (np.mean(n_scores), np.std(n_scores)))\n",
    "model_risk.fit(train_df.values, clust_df[LABEL].values)\n",
    "\n",
    "# test datasets\n",
    "mayo_val_patient_df[LABEL] = model_risk.predict(test_mayo_df.values)\n",
    "ny_val_patient_df[LABEL] = model_risk.predict(test_ny_df.values)"
   ]
  },
  {
   "cell_type": "code",
   "execution_count": 16,
   "metadata": {},
   "outputs": [],
   "source": [
    "LABEL = 'consensus_nmf'"
   ]
  },
  {
   "cell_type": "code",
   "execution_count": 17,
   "metadata": {},
   "outputs": [
    {
     "name": "stdout",
     "output_type": "stream",
     "text": [
      "DFCI Training Accuracy: 0.866 (0.048)\n"
     ]
    }
   ],
   "source": [
    "model_clust = RandomForestClassifier(random_state=42)\n",
    "\n",
    "# Cross validation\n",
    "cv = RepeatedStratifiedKFold(n_splits=5, n_repeats=10, random_state=42)\n",
    "\n",
    "# Score\n",
    "n_scores = cross_val_score(\n",
    "    model_clust, \n",
    "    train_df.values, \n",
    "    clust_df[LABEL].values, \n",
    "    scoring='accuracy', \n",
    "    cv=cv, \n",
    "    n_jobs=-1, \n",
    "    error_score='raise'\n",
    ")\n",
    "\n",
    "# report performance\n",
    "print('DFCI Training Accuracy: %.3f (%.3f)' % (np.mean(n_scores), np.std(n_scores)))\n",
    "model_clust.fit(train_df.values, clust_df[LABEL].values)\n",
    "\n",
    "# test datasets\n",
    "mayo_val_patient_df[LABEL] = model_clust.predict(test_mayo_df.values)\n",
    "ny_val_patient_df[LABEL] = model_clust.predict(test_ny_df.values)"
   ]
  },
  {
   "cell_type": "code",
   "execution_count": 18,
   "metadata": {},
   "outputs": [],
   "source": [
    "LABEL = 'risk_bin'"
   ]
  },
  {
   "cell_type": "code",
   "execution_count": 19,
   "metadata": {},
   "outputs": [
    {
     "name": "stdout",
     "output_type": "stream",
     "text": [
      "DFCI Training Accuracy: 0.932 (0.035)\n"
     ]
    }
   ],
   "source": [
    "model_bin = RandomForestClassifier(random_state=42)\n",
    "\n",
    "# Cross validation\n",
    "cv = RepeatedStratifiedKFold(n_splits=5, n_repeats=10, random_state=42)\n",
    "\n",
    "# Score\n",
    "n_scores = cross_val_score(\n",
    "    model_bin, \n",
    "    train_df.values, \n",
    "    clust_df[LABEL].values, \n",
    "    scoring='accuracy', \n",
    "    cv=cv, \n",
    "    n_jobs=-1, \n",
    "    error_score='raise'\n",
    ")\n",
    "\n",
    "# report performance\n",
    "print('DFCI Training Accuracy: %.3f (%.3f)' % (np.mean(n_scores), np.std(n_scores)))\n",
    "model_bin.fit(train_df.values, clust_df[LABEL].values)\n",
    "\n",
    "# test datasets\n",
    "mayo_val_patient_df[LABEL] = model_bin.predict(test_mayo_df.values)\n",
    "ny_val_patient_df[LABEL] = model_bin.predict(test_ny_df.values)"
   ]
  },
  {
   "cell_type": "markdown",
   "metadata": {},
   "source": [
    "## 6. Feature Importance\n",
    "---"
   ]
  },
  {
   "cell_type": "code",
   "execution_count": 20,
   "metadata": {},
   "outputs": [],
   "source": [
    "feats_df = pd.DataFrame(model_clust.feature_importances_, index=train_df.columns, columns=['weight'])\n",
    "feats_df['n'] = X_detailed_df.sum(0)"
   ]
  },
  {
   "cell_type": "code",
   "execution_count": 21,
   "metadata": {},
   "outputs": [],
   "source": [
    "from typing import Union\n",
    "\n",
    "def labeled_scatterplot(\n",
    "    df: pd.DataFrame, \n",
    "    xlab: str, \n",
    "    ylab: str, \n",
    "    ax: plt.axes = None, \n",
    "    figsize: tuple = (6,6), \n",
    "    xlim: Union[None, float] = None, \n",
    "    ylim: Union[None,float] = None, \n",
    "    lab_size:int = 8\n",
    "    ):\n",
    "    \"\"\"\n",
    "    Labeled Scatterplot.\n",
    "    \"\"\"\n",
    "    from adjustText import adjust_text\n",
    "\n",
    "    assert xlab in df, \"{} not in input dataframe\".format(xlab)\n",
    "    assert ylab in df, \"{} not in input dataframe\".format(ylab)\n",
    "    \n",
    "    if ax is None:\n",
    "        fig,ax = plt.subplots(figsize=figsize)\n",
    "    \n",
    "    if xlim is None:\n",
    "        xlim = np.max(df[xlab])\n",
    "    if ylim is None:\n",
    "        ylim = np.max(df[ylab])\n",
    "        \n",
    "    ax.scatter(\n",
    "        feats_df[xlab], \n",
    "        feats_df[ylab], \n",
    "        s=50, \n",
    "        c='lightblue', \n",
    "        edgecolor='black', \n",
    "        alpha=0.5\n",
    "    )\n",
    "\n",
    "    texts = list()\n",
    "    for i,txt in enumerate(feats_df.index):\n",
    "        if feats_df.iloc[i][xlab] > xlim or feats_df.iloc[i][ylab] > ylim:\n",
    "            texts.append(\n",
    "                ax.text(\n",
    "                    feats_df.iloc[i][xlab], \n",
    "                    feats_df.iloc[i][ylab], \n",
    "                    txt, \n",
    "                    ha='center', \n",
    "                    va='center', \n",
    "                    fontsize=lab_size,\n",
    "                    bbox=dict(facecolor='white', edgecolor='lightgrey', boxstyle='round', alpha=0.2)\n",
    "                )\n",
    "            )\n",
    "    \n",
    "    if len(texts)>0:\n",
    "        ax.axhline(ylim, c='grey', alpha=0.8, linewidth=0.25)\n",
    "        ax.axvline(xlim, c='grey', alpha=0.8, linewidth=0.25)\n",
    "        adjust_text(texts)\n",
    "\n",
    "    ax.set_xlabel(\"# in Dataset\", fontsize=14)\n",
    "    ax.set_ylabel(\"Feature Importance in RF Classifier\", fontsize=14)\n",
    "    \n",
    "    return fig"
   ]
  },
  {
   "cell_type": "code",
   "execution_count": 22,
   "metadata": {},
   "outputs": [
    {
     "data": {
      "image/png": "[encoded data removed]",
      "text/plain": [
       "<Figure size 432x432 with 1 Axes>"
      ]
     },
     "metadata": {
      "needs_background": "light"
     },
     "output_type": "display_data"
    }
   ],
   "source": [
    "_ = labeled_scatterplot(feats_df, \"n\", \"weight\", xlim=20, ylim=0.02)\n",
    "plt.savefig(\"figures/SX_RF_feat_importance.pdf\", dpi=100, bbox_inches='tight')"
   ]
  },
  {
   "cell_type": "markdown",
   "metadata": {},
   "source": [
    "## 7. Aggregate\n",
    "---"
   ]
  },
  {
   "cell_type": "code",
   "execution_count": 31,
   "metadata": {},
   "outputs": [],
   "source": [
    "mapping_df = pd.read_csv(\"../data/raw/SMM_study_sample_map.tsv\", sep='\\t',index_col=0)\n",
    "\n",
    "# DFCI Cohort\n",
    "dfci_patient_df = pd.read_csv(DFCI_SURVIVAL, sep='\\t').set_index(\"Patient_ID\")\n",
    "dfci_patient_df = dfci_patient_df.rename(index={\n",
    "    \"SMM83\":\"SMM_043_Tumor\",\n",
    "    \"SMM84\":\"SMM_025_Tumor\",\n",
    "    \"SMM97\":\"SMM_056_Tumor\",\n",
    "}).join(mapping_df[['id']]).set_index(\"id\")\n",
    "\n",
    "dfci_patient_df[\"New_Mayo_model\"] = dfci_patient_df[\"New_Mayo_model\"].apply(lambda x: _assign_mayo(x))"
   ]
  },
  {
   "cell_type": "code",
   "execution_count": 32,
   "metadata": {},
   "outputs": [],
   "source": [
    "comb_df = pd.concat([\n",
    "    dfci_patient_df,\n",
    "    mayo_val_patient_df,\n",
    "    ny_val_patient_df,\n",
    "\n",
    "])\n",
    "\n",
    "comb_df = comb_df[['Cohort','New_Mayo_model','SEX','consensus_nmf','TTP','Progression_Status','Rev_surv']]"
   ]
  },
  {
   "cell_type": "code",
   "execution_count": 33,
   "metadata": {},
   "outputs": [
    {
     "data": {
      "text/html": [
       "<div>\n",
       "<style scoped>\n",
       "    .dataframe tbody tr th:only-of-type {\n",
       "        vertical-align: middle;\n",
       "    }\n",
       "\n",
       "    .dataframe tbody tr th {\n",
       "        vertical-align: top;\n",
       "    }\n",
       "\n",
       "    .dataframe thead th {\n",
       "        text-align: right;\n",
       "    }\n",
       "</style>\n",
       "<table border=\"1\" class=\"dataframe\">\n",
       "  <thead>\n",
       "    <tr style=\"text-align: right;\">\n",
       "      <th></th>\n",
       "      <th>Cohort</th>\n",
       "      <th>New_Mayo_model</th>\n",
       "      <th>SEX</th>\n",
       "      <th>consensus_nmf</th>\n",
       "      <th>TTP</th>\n",
       "      <th>Progression_Status</th>\n",
       "      <th>Rev_surv</th>\n",
       "    </tr>\n",
       "  </thead>\n",
       "  <tbody>\n",
       "    <tr>\n",
       "      <th>GM_9</th>\n",
       "      <td>NYU</td>\n",
       "      <td>None</td>\n",
       "      <td>Female</td>\n",
       "      <td>C5</td>\n",
       "      <td>4.810404</td>\n",
       "      <td>1</td>\n",
       "      <td>0</td>\n",
       "    </tr>\n",
       "  </tbody>\n",
       "</table>\n",
       "</div>"
      ],
      "text/plain": [
       "     Cohort New_Mayo_model     SEX consensus_nmf       TTP  \\\n",
       "GM_9    NYU           None  Female            C5  4.810404   \n",
       "\n",
       "      Progression_Status  Rev_surv  \n",
       "GM_9                   1         0  "
      ]
     },
     "execution_count": 33,
     "metadata": {},
     "output_type": "execute_result"
    }
   ],
   "source": [
    "# Drop Missing Mayo Cohort with no Mayo 2020 Annotation\n",
    "comb_df[comb_df[\"New_Mayo_model\"].isna()]"
   ]
  },
  {
   "cell_type": "code",
   "execution_count": 34,
   "metadata": {},
   "outputs": [],
   "source": [
    "comb_df.to_csv(\"supplement/SMM_combined_subtypes_survival.tsv\", sep='\\t')"
   ]
  }
 ],
 "metadata": {
  "kernelspec": {
   "display_name": "Python 3",
   "language": "python",
   "name": "python3"
  },
  "language_info": {
   "codemirror_mode": {
    "name": "ipython",
    "version": 3
   },
   "file_extension": ".py",
   "mimetype": "text/x-python",
   "name": "python",
   "nbconvert_exporter": "python",
   "pygments_lexer": "ipython3",
   "version": "3.7.7"
  }
 },
 "nbformat": 4,
 "nbformat_minor": 4
}
