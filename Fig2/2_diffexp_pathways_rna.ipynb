{
 "cells": [
  {
   "cell_type": "code",
   "execution_count": 2,
   "metadata": {
    "scrolled": true
   },
   "outputs": [],
   "source": [
    "source(\"../funcs/limma.R\")\n",
    "source(\"../funcs/funcsR.R\")\n",
    "suppressMessages(library(fgsea))\n",
    "suppressMessages(library('ggplot2'))\n",
    "suppressMessages(library('ggpubr'))\n",
    "suppressMessages(library('ggdendro'))\n",
    "suppressMessages(library(RColorBrewer))\n",
    "suppressMessages(library(EnhancedVolcano))\n",
    "suppressMessages(library(xCell))"
   ]
  },
  {
   "cell_type": "markdown",
   "metadata": {},
   "source": [
    "---\n",
    "# Analysis of SMM Transcriptomes pt. 2\n",
    "\n",
    "This notebooks contains R code & scripts to run differential exression, fGSEA, and create plots.\n",
    "\n",
    "**Author**: [Shankara Anand](sanand@broadinstitute.org)"
   ]
  },
  {
   "cell_type": "markdown",
   "metadata": {},
   "source": [
    "---\n",
    "\n",
    "## 0. Load Data"
   ]
  },
  {
   "cell_type": "code",
   "execution_count": 3,
   "metadata": {
    "scrolled": true
   },
   "outputs": [],
   "source": [
    "# Load TPM\n",
    "tpm.df <- read.table(\"supplement/table9a_janssen_tpm.tsv\",sep='\\t',header=T,row.names=1)\n",
    "\n",
    "# Load Norm TPM\n",
    "tpm.norm.df <- read.table(\"supplement/table9b_janssen_tpm_norm.tsv\",sep='\\t', header=T, row.names=1)\n",
    "tpm.norm.df <- data.frame(t(tpm.norm.df))\n",
    "\n",
    "# Load counts\n",
    "counts.df <- read.table(\"supplement/table9c_janssen_counts.tsv\",sep='\\t',header=T,row.names=1)\n",
    "\n",
    "# Genes \n",
    "gene.df <- read.table(\"supplement/table9d_gene_name.tsv\",sep='\\t',header=T,row.names=1)\n",
    "gene.df <- gene.df[gene.df$biotype=='protein_coding',]\n",
    "full.gene.df <- read.table(\"supplement/table9d_gene_name.tsv\",sep='\\t',header=T,row.names=1)\n",
    "genes.to.use <- intersect(rownames(gene.df),rownames(tpm.df))\n",
    "\n",
    "# Labels\n",
    "labels.df <- read.table(\"../Fig1/supplement/table4_sample_cluster_id.tsv\",sep='\\t',header=T,row.names=1)\n",
    "samples.to.use <- intersect(colnames(counts.df),rownames(labels.df))"
   ]
  },
  {
   "cell_type": "code",
   "execution_count": 4,
   "metadata": {},
   "outputs": [],
   "source": [
    "labels.df <- labels.df[samples.to.use,]\n",
    "counts.df <- counts.df[genes.to.use,samples.to.use]\n",
    "gene.df <- gene.df[genes.to.use,\"Description\", drop=F]"
   ]
  },
  {
   "cell_type": "code",
   "execution_count": 5,
   "metadata": {},
   "outputs": [],
   "source": [
    "tpm.norm.df <- tpm.norm.df[samples.to.use,]\n",
    "tpm.norm.df$consensus_nmf <- as.factor(as.character(labels.df[samples.to.use,]$consensus_nmf))"
   ]
  },
  {
   "cell_type": "code",
   "execution_count": 6,
   "metadata": {},
   "outputs": [],
   "source": [
    "X.df <- read.table(\"../Fig1/supplement/table3_smm_filt_matrix.tsv\",sep='\\t',header=T,row.names=1)\n",
    "X.df <- X.df[samples.to.use,]"
   ]
  },
  {
   "cell_type": "code",
   "execution_count": 7,
   "metadata": {},
   "outputs": [],
   "source": [
    "addName <- function(s){\n",
    "    if(s==\"C1\"){\n",
    "        return(\"HNT\")\n",
    "    }else if(s=='C2'){\n",
    "        return(\"HMC\")\n",
    "    }else if(s=='C3'){\n",
    "        return(\"FMD\")\n",
    "    }else if(s=='C4'){\n",
    "        return(\"HKR\")\n",
    "    }else if(s=='C5'){\n",
    "        return(\"CND\")\n",
    "    }else if(s=='C6'){\n",
    "        return(\"HNF\")\n",
    "    }\n",
    "}"
   ]
  },
  {
   "cell_type": "code",
   "execution_count": 8,
   "metadata": {},
   "outputs": [],
   "source": [
    "tpm.norm.df$id <- factor(sapply(tpm.norm.df$consensus_nmf, addName), levels = c(\"HNT\", \"HMC\", \"FMD\",  \"HKR\", \"CND\", \"HNF\"))"
   ]
  },
  {
   "cell_type": "markdown",
   "metadata": {},
   "source": [
    "---\n",
    "\n",
    "## 1. Expression Comparisons\n",
    "\n",
    "* Barplots showing expression of genes across clusters"
   ]
  },
  {
   "cell_type": "code",
   "execution_count": 48,
   "metadata": {},
   "outputs": [],
   "source": [
    "# plotTPM(tpm.norm.df, \"BCL2L1\", list(  c(\"C1\",\"C2\")), full.gene.df, x='id', label.y=3, label.pos='none')\n",
    "# plotTPM(tpm.norm.df, \"BCL2\", list(  c(\"C1|HNT\",\"C2|HMC\")), full.gene.df, x='id', label.y=3, label.pos='none')"
   ]
  },
  {
   "cell_type": "code",
   "execution_count": 49,
   "metadata": {},
   "outputs": [],
   "source": [
    "tpm.norm.df$Hyperdiploidy<- ifelse(tpm.norm.df$consensus_nmf %in% c(\"C3\",\"C5\"), \"- HP\", \"+ HP\")"
   ]
  },
  {
   "cell_type": "code",
   "execution_count": 50,
   "metadata": {},
   "outputs": [
    {
     "name": "stderr",
     "output_type": "stream",
     "text": [
      "Warning message:\n",
      "“Computation failed in `stat_signif()`:\n",
      "not enough 'y' observations”"
     ]
    },
    {
     "data": {
      "text/html": [
       "<strong>png:</strong> 2"
      ],
      "text/latex": [
       "\\textbf{png:} 2"
      ],
      "text/markdown": [
       "**png:** 2"
      ],
      "text/plain": [
       "png \n",
       "  2 "
      ]
     },
     "metadata": {},
     "output_type": "display_data"
    }
   ],
   "source": [
    "pdf('figures/fig2e_myc_hp.pdf', width=4, height=4)\n",
    "plotTPM(tpm.norm.df, \"MYC\", c(\"- HP\", \"+ HP\"), full.gene.df, x='Hyperdiploidy', label.x=.75, label.y=1, w=4, h=4, ylim.min=1, label.pos=\"none\", palette=NULL)\n",
    "dev.off()"
   ]
  },
  {
   "cell_type": "code",
   "execution_count": 51,
   "metadata": {},
   "outputs": [
    {
     "name": "stderr",
     "output_type": "stream",
     "text": [
      "Warning message:\n",
      "“Computation failed in `stat_signif()`:\n",
      "not enough 'y' observations”Warning message:\n",
      "“Computation failed in `stat_signif()`:\n",
      "not enough 'y' observations”Warning message:\n",
      "“Computation failed in `stat_signif()`:\n",
      "not enough 'y' observations”"
     ]
    },
    {
     "data": {
      "text/html": [
       "<strong>png:</strong> 2"
      ],
      "text/latex": [
       "\\textbf{png:} 2"
      ],
      "text/markdown": [
       "**png:** 2"
      ],
      "text/plain": [
       "png \n",
       "  2 "
      ]
     },
     "metadata": {},
     "output_type": "display_data"
    }
   ],
   "source": [
    "tpm.norm.df$cnd <- factor(ifelse(tpm.norm.df$consensus_nmf==\"C5\", \"CND\", \"Rest\"), levels=c(\"Rest\",\"CND\"))\n",
    "p1 <- plotTPM(tpm.norm.df, \"CCND1\", c(\"Rest\", \"CND\"), full.gene.df, x='cnd', label.x=.75, label.y=0, w=4, h=4, label.pos=\"none\", palette=NULL)\n",
    "\n",
    "tpm.norm.df$fmd <- factor(ifelse(tpm.norm.df$consensus_nmf %in% c(\"C3\",\"C2\"), \"FMD/HMC\", \"Rest\"), levels=c(\"Rest\",\"FMD/HMC\"))\n",
    "p2 <- plotTPM(tpm.norm.df, \"CCND2\", c(\"Rest\", \"FMD\"), full.gene.df, x='fmd', label.x=.75, label.y=0, w=4, h=4, label.pos=\"none\", palette=NULL)\n",
    "\n",
    "tpm.norm.df$hnt <- factor(ifelse(tpm.norm.df$consensus_nmf==\"C1\", \"HNT\", \"Rest\"), levels=c(\"Rest\",\"HNT\"))\n",
    "p3 <- plotTPM(tpm.norm.df, \"MCL1\", c(\"Rest\", \"HNT\"), full.gene.df, x='hnt', label.x=.75, label.y=7, w=4, h=4, ylim.min=7, label.pos=\"none\", palette=NULL)\n",
    "\n",
    "pdf('figures/figS4cde_tpm_barplots.pdf', width=4, height=12)\n",
    "ggarrange(p1,p2,p3,labels = c(\"C\", \"D\", \"E\"), ncol = 1, nrow = 3)\n",
    "dev.off()"
   ]
  },
  {
   "cell_type": "code",
   "execution_count": 52,
   "metadata": {
    "scrolled": true
   },
   "outputs": [
    {
     "name": "stderr",
     "output_type": "stream",
     "text": [
      "Scale for 'y' is already present. Adding another scale for 'y', which will\n",
      "replace the existing scale.\n",
      "Scale for 'y' is already present. Adding another scale for 'y', which will\n",
      "replace the existing scale.\n",
      "Scale for 'y' is already present. Adding another scale for 'y', which will\n",
      "replace the existing scale.\n",
      "Warning message:\n",
      "“Computation failed in `stat_signif()`:\n",
      "missing value where TRUE/FALSE needed”Warning message:\n",
      "“Computation failed in `stat_signif()`:\n",
      "missing value where TRUE/FALSE needed”Warning message:\n",
      "“Computation failed in `stat_signif()`:\n",
      "missing value where TRUE/FALSE needed”"
     ]
    },
    {
     "data": {
      "text/html": [
       "<strong>png:</strong> 2"
      ],
      "text/latex": [
       "\\textbf{png:} 2"
      ],
      "text/markdown": [
       "**png:** 2"
      ],
      "text/plain": [
       "png \n",
       "  2 "
      ]
     },
     "metadata": {},
     "output_type": "display_data"
    }
   ],
   "source": [
    "p1 <- plotTPM(tpm.norm.df, \"MCL1\", list(  c(\"HNT\",\"FMD\"), c(\"HMC\",\"FMD\"), c(\"FMD\",\"CND\")), full.gene.df, x=\"id\", label.x=.9, ylim.min=6, label.y=6, label.pos='none')\n",
    "p2 <- plotTPM(tpm.norm.df, \"MYC\", NA, full.gene.df, x=\"id\", label.x=.9, label.pos='none') + scale_y_continuous(breaks=c(0,2,4,6,8,10),limits = c(0, NA))\n",
    "p3 <- plotTPM(tpm.norm.df, \"CCND1\", NA, full.gene.df, x=\"id\", label.x=.9, label.pos='none') + scale_y_continuous(breaks=c(0,2,4,6,8,10),limits = c(0, NA))\n",
    "p4 <- plotTPM(tpm.norm.df, \"CCND2\", NA, full.gene.df, x=\"id\", label.x=.9, label.pos='none') + scale_y_continuous(breaks=c(0,2,4,6,8,10),limits = c(0, NA))\n",
    "\n",
    "pdf('figures/fig2abcd_tpm_barplots.pdf', width=8, height=20)\n",
    "ggarrange(p1,p2,p3,p4,labels = c(\"A\", \"B\", \"C\", \"D\"), ncol = 1, nrow = 4)\n",
    "dev.off()"
   ]
  },
  {
   "cell_type": "markdown",
   "metadata": {},
   "source": [
    "---\n",
    "\n",
    "## 2. Differential Expression One vs. Rest (Clusters)"
   ]
  },
  {
   "cell_type": "markdown",
   "metadata": {},
   "source": [
    "### One vs. Rest"
   ]
  },
  {
   "cell_type": "code",
   "execution_count": 16,
   "metadata": {},
   "outputs": [
    {
     "name": "stderr",
     "output_type": "stream",
     "text": [
      "Warning message in dir.create(DE.DIR):\n",
      "“'supplement/diffexp' already exists”"
     ]
    },
    {
     "name": "stdout",
     "output_type": "stream",
     "text": [
      "  * model matrix dimensions: 2\n",
      "Differentially expressed genes at 0.05 FDR: 67\n",
      "  * model matrix dimensions: 2\n",
      "Differentially expressed genes at 0.05 FDR: 0\n",
      "  * model matrix dimensions: 2\n",
      "Differentially expressed genes at 0.05 FDR: 81\n",
      "  * model matrix dimensions: 2\n",
      "Differentially expressed genes at 0.05 FDR: 27\n",
      "  * model matrix dimensions: 2\n",
      "Differentially expressed genes at 0.05 FDR: 7\n",
      "  * model matrix dimensions: 2\n",
      "Differentially expressed genes at 0.05 FDR: 4\n"
     ]
    },
    {
     "name": "stderr",
     "output_type": "stream",
     "text": [
      "Warning message in dir.create(DE.DIR):\n",
      "“'supplement/diffexp_hp' already exists”"
     ]
    },
    {
     "name": "stdout",
     "output_type": "stream",
     "text": [
      "  * model matrix dimensions: 2\n",
      "Differentially expressed genes at 0.05 FDR: 0\n",
      "  * model matrix dimensions: 2\n",
      "Differentially expressed genes at 0.05 FDR: 0\n",
      "  * model matrix dimensions: 2\n",
      "Differentially expressed genes at 0.05 FDR: 0\n",
      "  * model matrix dimensions: 2\n",
      "Differentially expressed genes at 0.05 FDR: 7\n"
     ]
    }
   ],
   "source": [
    "# For all samples with matching RNA\n",
    "DE.DIR <- \"supplement/diffexp\"\n",
    "dir.create(DE.DIR)\n",
    "\n",
    "for (s in unique(labels.df$consensus_nmf)){\n",
    "    labels.df$de <- labels.df$consensus_nmf==s\n",
    "    \n",
    "    # Run Differential Expression\n",
    "    de.df <- RunDiffExprAnalysisLimma(\n",
    "        counts.df, \n",
    "        labels.df[,c('de'), drop=FALSE], \n",
    "        genes.df=gene.df\n",
    "    )\n",
    "    \n",
    "    write.table(de.df, file.path(DE.DIR, paste(\"cluster_\", s ,\".tsv\", sep='')), quote=FALSE, sep=\"\\t\")\n",
    "}\n",
    "\n",
    "# Only within HP clusters\n",
    "DE.DIR <- \"supplement/diffexp_hp\"\n",
    "dir.create(DE.DIR)\n",
    "\n",
    "labels.hp.df <- labels.df[labels.df$consensus_nmf %in% c(\"C1\",\"C2\",\"C4\",\"C6\"),]\n",
    "counts.hp.df <- counts.df[,rownames(labels.hp.df)]\n",
    "\n",
    "for (s in unique(labels.hp.df$consensus_nmf)){\n",
    "    labels.hp.df$de <- labels.hp.df$consensus_nmf==s\n",
    "    \n",
    "    # Run Differential Expression\n",
    "    de.df <- RunDiffExprAnalysisLimma(\n",
    "        counts.hp.df, \n",
    "        labels.hp.df[,c('de'), drop=FALSE], \n",
    "        genes.df=gene.df\n",
    "    )\n",
    "    \n",
    "    write.table(de.df, file.path(DE.DIR, paste(\"cluster_subset_HP_\", s ,\".tsv\", sep='')), quote=FALSE, sep=\"\\t\")\n",
    "}"
   ]
  },
  {
   "cell_type": "code",
   "execution_count": 17,
   "metadata": {},
   "outputs": [],
   "source": [
    "c4.de.hl <- read.table(\"../data/ref/de_highlights/C4_selected_DE_genes.txt\",sep='\\t',header=T)\n",
    "c3.de.hl <- read.table(\"../data/ref/de_highlights/C3_selected_DE_genes.txt\",sep='\\t',header=T)"
   ]
  },
  {
   "cell_type": "code",
   "execution_count": 18,
   "metadata": {},
   "outputs": [
    {
     "data": {
      "text/html": [
       "<strong>png:</strong> 2"
      ],
      "text/latex": [
       "\\textbf{png:} 2"
      ],
      "text/markdown": [
       "**png:** 2"
      ],
      "text/plain": [
       "png \n",
       "  2 "
      ]
     },
     "metadata": {},
     "output_type": "display_data"
    },
    {
     "data": {
      "text/html": [
       "<strong>png:</strong> 2"
      ],
      "text/latex": [
       "\\textbf{png:} 2"
      ],
      "text/markdown": [
       "**png:** 2"
      ],
      "text/plain": [
       "png \n",
       "  2 "
      ]
     },
     "metadata": {},
     "output_type": "display_data"
    }
   ],
   "source": [
    "pdf('figures/fig2f_volcano_clust_FMD_de.pdf', width=8, height=10)\n",
    "de.df <- read.table(\"supplement/diffexp/cluster_C3.tsv\",sep='\\t')\n",
    "plotVolcano(\n",
    "    de.df, \n",
    "    selectLab=append(as.vector(c3.de.hl$upregulated_gene_name),as.vector(c3.de.hl$downregulated_gene_name)),\n",
    "    widthConnectors = 0.25,\n",
    "    drawConnectors=T, \n",
    "    boxedLabels = TRUE,\n",
    "    h=10,\n",
    "    w=8,\n",
    "    labSize=2,\n",
    "    labvjust=1,\n",
    "    labhjust=1,\n",
    "    title='FMD'\n",
    ")\n",
    "dev.off()\n",
    "\n",
    "pdf('figures/fig2g_volcano_clust_CND_de.pdf', width=8, height=10)\n",
    "de.df <- read.table(\"supplement/diffexp/cluster_C5.tsv\",sep='\\t')\n",
    "plotVolcano(\n",
    "    de.df, \n",
    "    selectLab=append(as.vector(c4.de.hl$Upregulated_gene_name),as.vector(c4.de.hl$downregulated_gene_name)),\n",
    "    widthConnectors = 0.25,\n",
    "    drawConnectors=T, \n",
    "    boxedLabels = TRUE,\n",
    "    h=10,\n",
    "    w=8,\n",
    "    labSize=2,\n",
    "    labvjust=0.5,\n",
    "    labhjust=1,\n",
    "    title='CND'\n",
    ")\n",
    "dev.off()"
   ]
  },
  {
   "cell_type": "code",
   "execution_count": 19,
   "metadata": {
    "scrolled": true
   },
   "outputs": [],
   "source": [
    "# #pdf('figures/volcano_clust_C1_de.pdf', width=8, height=10)\n",
    "# de.df <- read.table(\"supplement/diffexp/cluster_C1.tsv\",sep='\\t')\n",
    "# plotVolcano(\n",
    "#     de.df,\n",
    "#     widthConnectors = 0.25,\n",
    "#     drawConnectors=T, \n",
    "#     boxedLabels = TRUE,\n",
    "#     h=10,\n",
    "#     w=8,\n",
    "#     labSize=2,\n",
    "#     labvjust=1,\n",
    "#     labhjust=1,\n",
    "#     title='C1'\n",
    "# )\n",
    "# #dev.off()\n",
    "\n",
    "# #pdf('figures/volcano_clust_C2_de.pdf', width=8, height=10)\n",
    "# de.df <- read.table(\"supplement/diffexp/cluster_C2.tsv\",sep='\\t')\n",
    "# plotVolcano(\n",
    "#     de.df,\n",
    "#     widthConnectors = 0.25,\n",
    "#     drawConnectors=T, \n",
    "#     boxedLabels = TRUE,\n",
    "#     h=10,\n",
    "#     w=8,\n",
    "#     labSize=2,\n",
    "#     labvjust=1,\n",
    "#     labhjust=1,\n",
    "#     title='C2'\n",
    "# )\n",
    "# #dev.off()\n",
    "\n",
    "# #pdf('figures/volcano_clust_C6_de.pdf', width=8, height=10)\n",
    "# de.df <- read.table(\"supplement/diffexp/cluster_C6.tsv\",sep='\\t')\n",
    "# plotVolcano(\n",
    "#     de.df,\n",
    "#     widthConnectors = 0.25,\n",
    "#     drawConnectors=T, \n",
    "#     boxedLabels = TRUE,\n",
    "#     h=10,\n",
    "#     w=8,\n",
    "#     labSize=2,\n",
    "#     labvjust=1,\n",
    "#     labhjust=1,\n",
    "#     title='C6'\n",
    "# )\n",
    "# #dev.off()"
   ]
  },
  {
   "cell_type": "markdown",
   "metadata": {},
   "source": [
    "---\n",
    "\n",
    "## 2. Misc. Differential Expression Comparisons"
   ]
  },
  {
   "cell_type": "code",
   "execution_count": 20,
   "metadata": {},
   "outputs": [
    {
     "name": "stderr",
     "output_type": "stream",
     "text": [
      "Warning message in dir.create(DE.DIR):\n",
      "“'supplement/diffexp_misc' already exists”"
     ]
    }
   ],
   "source": [
    "DE.DIR <- \"supplement/diffexp_misc\"\n",
    "dir.create(DE.DIR)"
   ]
  },
  {
   "cell_type": "markdown",
   "metadata": {},
   "source": [
    "### HP vs Rest"
   ]
  },
  {
   "cell_type": "code",
   "execution_count": 21,
   "metadata": {},
   "outputs": [
    {
     "name": "stdout",
     "output_type": "stream",
     "text": [
      "  * model matrix dimensions: 2\n",
      "Differentially expressed genes at 0.05 FDR: 740\n"
     ]
    },
    {
     "data": {
      "text/html": [
       "<table>\n",
       "<thead><tr><th></th><th scope=col>logFC</th><th scope=col>AveExpr</th><th scope=col>t</th><th scope=col>P.Value</th><th scope=col>adj.P.Val</th><th scope=col>B</th><th scope=col>gene_name</th></tr></thead>\n",
       "<tbody>\n",
       "\t<tr><th scope=row>ENSG00000136997.10</th><td>0.9796356  </td><td>6.950225   </td><td>3.256196   </td><td>0.001604338</td><td>0.03984064 </td><td>-1.544484  </td><td>MYC        </td></tr>\n",
       "</tbody>\n",
       "</table>\n"
      ],
      "text/latex": [
       "\\begin{tabular}{r|lllllll}\n",
       "  & logFC & AveExpr & t & P.Value & adj.P.Val & B & gene\\_name\\\\\n",
       "\\hline\n",
       "\tENSG00000136997.10 & 0.9796356   & 6.950225    & 3.256196    & 0.001604338 & 0.03984064  & -1.544484   & MYC        \\\\\n",
       "\\end{tabular}\n"
      ],
      "text/markdown": [
       "\n",
       "| <!--/--> | logFC | AveExpr | t | P.Value | adj.P.Val | B | gene_name |\n",
       "|---|---|---|---|---|---|---|---|\n",
       "| ENSG00000136997.10 | 0.9796356   | 6.950225    | 3.256196    | 0.001604338 | 0.03984064  | -1.544484   | MYC         |\n",
       "\n"
      ],
      "text/plain": [
       "                   logFC     AveExpr  t        P.Value     adj.P.Val  B        \n",
       "ENSG00000136997.10 0.9796356 6.950225 3.256196 0.001604338 0.03984064 -1.544484\n",
       "                   gene_name\n",
       "ENSG00000136997.10 MYC      "
      ]
     },
     "metadata": {},
     "output_type": "display_data"
    }
   ],
   "source": [
    "labels.df$de <- labels.df$consensus_nmf %in% c(\"C1\",\"C2\",\"C4\",\"C6\")\n",
    "\n",
    "# Run Differential Expression\n",
    "de.df <- RunDiffExprAnalysisLimma(counts.df, labels.df[,c('de'), drop=FALSE], genes.df=gene.df)\n",
    "write.table(de.df, file.path(DE.DIR, \"cluster_hp_vs_rest.tsv\"), quote=FALSE, sep=\"\\t\")\n",
    "\n",
    "de.df[de.df$gene_name =='MYC',]"
   ]
  },
  {
   "cell_type": "markdown",
   "metadata": {},
   "source": [
    "### 1q Clusters"
   ]
  },
  {
   "cell_type": "code",
   "execution_count": 22,
   "metadata": {},
   "outputs": [
    {
     "name": "stdout",
     "output_type": "stream",
     "text": [
      "  * model matrix dimensions: 2\n",
      "Differentially expressed genes at 0.05 FDR: 0\n"
     ]
    }
   ],
   "source": [
    "labels.1q.df <- labels.df[labels.df$consensus_nmf %in% c(\"C3\",\"C6\"),]\n",
    "labels.1q.df$de <- labels.1q.df$consensus_nmf==\"C3\"\n",
    "\n",
    "# Run Differential Expression\n",
    "de.df <- RunDiffExprAnalysisLimma(counts.df[,rownames(labels.1q.df)], labels.1q.df[,c('de'), drop=FALSE], genes.df=gene.df)\n",
    "write.table(de.df, file.path(DE.DIR, \"cluster_subset_1q_vs_rest.tsv\"), quote=FALSE, sep=\"\\t\")"
   ]
  },
  {
   "cell_type": "markdown",
   "metadata": {},
   "source": [
    "### t(11;14)"
   ]
  },
  {
   "cell_type": "code",
   "execution_count": 51,
   "metadata": {},
   "outputs": [
    {
     "name": "stdout",
     "output_type": "stream",
     "text": [
      "  * model matrix dimensions: 2\n",
      "Differentially expressed genes at 0.05 FDR: 114\n"
     ]
    }
   ],
   "source": [
    "labels.df$t1114 <- as.logical(X.df[,'t.11.14.'])\n",
    "\n",
    "# Run Differential Expression\n",
    "de.df <- RunDiffExprAnalysisLimma(counts.df[,rownames(labels.df)], labels.df[,c('t1114'), drop=FALSE], genes.df=gene.df,)\n",
    "write.table(de.df, file.path(DE.DIR, \"t1114_vs_rest.tsv\"), quote=FALSE, sep=\"\\t\")"
   ]
  },
  {
   "cell_type": "markdown",
   "metadata": {},
   "source": [
    "### 1q Amp vs Rest"
   ]
  },
  {
   "cell_type": "code",
   "execution_count": 52,
   "metadata": {},
   "outputs": [
    {
     "name": "stdout",
     "output_type": "stream",
     "text": [
      "  * model matrix dimensions: 2\n",
      "Differentially expressed genes at 0.05 FDR: 253\n"
     ]
    }
   ],
   "source": [
    "labels.df$one_q <- as.logical(X.df[rownames(labels.df),'X1q_gain'])\n",
    "\n",
    "# Run Differential Expression\n",
    "de.df <- RunDiffExprAnalysisLimma(counts.df, labels.df[,c('one_q'), drop=FALSE], genes.df=gene.df)\n",
    "write.table(de.df, file.path(DE.DIR, \"1q_vs_rest.tsv\"), quote=FALSE, sep=\"\\t\")"
   ]
  },
  {
   "cell_type": "markdown",
   "metadata": {},
   "source": [
    "### 1p Del vs. Rest"
   ]
  },
  {
   "cell_type": "code",
   "execution_count": 55,
   "metadata": {},
   "outputs": [
    {
     "name": "stdout",
     "output_type": "stream",
     "text": [
      "  * model matrix dimensions: 2\n",
      "Differentially expressed genes at 0.05 FDR: 3\n"
     ]
    }
   ],
   "source": [
    "labels.df$one_p <- as.logical(X.df[rownames(labels.df),'X1p_del'])\n",
    "\n",
    "# Run Differential Expression\n",
    "de.df <- RunDiffExprAnalysisLimma(counts.df, labels.df[,c('one_p'), drop=FALSE], genes.df=gene.df)\n",
    "write.table(de.df, file.path(DE.DIR, \"1p_del_vs_rest.tsv\"), quote=FALSE, sep=\"\\t\")"
   ]
  },
  {
   "cell_type": "markdown",
   "metadata": {},
   "source": [
    "---\n",
    "\n",
    "## 3. Pathways\n",
    "\n",
    "* Run fGSEA for differential expression results\n",
    "* Rank by logFC, logFC * -log10(adj.p-val)"
   ]
  },
  {
   "cell_type": "code",
   "execution_count": 23,
   "metadata": {},
   "outputs": [],
   "source": [
    "GMTS = c(\n",
    "    \"../data/ref/gmts/h.all.v7.0.symbols.gmt.txt\",\n",
    "    \"../data/ref/gmts/c2.cp.kegg.v7.0.symbols.gmt.txt\",\n",
    "    \"../data/ref/gmts/mm_sigs_custom.gmt.txt\",\n",
    "    \"../data/ref/gmts/staudt_2020.gmt.txt\"\n",
    ")\n",
    "\n",
    "GMT_list <- c(gmtPathways(GMTS[1]),gmtPathways(GMTS[2]),gmtPathways(GMTS[3]))\n",
    "SEED <- 42"
   ]
  },
  {
   "cell_type": "code",
   "execution_count": 24,
   "metadata": {},
   "outputs": [],
   "source": [
    "DE.DIR <- \"supplement/diffexp\"\n",
    "\n",
    "de.df <- list()\n",
    "c <- 1\n",
    "\n",
    "for (file in list.files(\"supplement/diffexp\")){\n",
    "    file.name <- file.path(DE.DIR, file)\n",
    "    de.df[[c]] <- read.table(file.name, sep='\\t', header=T, row.names=1)\n",
    "    de.df[[c]]$id <- strsplit(file,'\\\\.')[[1]][1]\n",
    "\n",
    "    c = c+1\n",
    "}\n",
    "\n",
    "de.df <- do.call(\"rbind\", de.df)\n",
    "de.df$id <- gsub(\"cluster_\", \"\", de.df$id)"
   ]
  },
  {
   "cell_type": "code",
   "execution_count": 25,
   "metadata": {
    "scrolled": false
   },
   "outputs": [
    {
     "name": "stderr",
     "output_type": "stream",
     "text": [
      "Warning message in fgsea(GMTS, R, 10000, minSize = 3):\n",
      "“There are duplicate gene names, fgsea may produce unexpected results”Warning message in fgsea(GMTS, R, 10000, minSize = 3):\n",
      "“There are duplicate gene names, fgsea may produce unexpected results”Warning message in fgsea(GMTS, R, 10000, minSize = 3):\n",
      "“There are duplicate gene names, fgsea may produce unexpected results”Warning message in fgsea(GMTS, R, 10000, minSize = 3):\n",
      "“There are duplicate gene names, fgsea may produce unexpected results”Warning message in fgsea(GMTS, R, 10000, minSize = 3):\n",
      "“There are duplicate gene names, fgsea may produce unexpected results”Warning message in fgsea(GMTS, R, 10000, minSize = 3):\n",
      "“There are duplicate gene names, fgsea may produce unexpected results”Warning message in fgsea(GMTS, R, 10000, minSize = 3):\n",
      "“There are duplicate gene names, fgsea may produce unexpected results”Warning message in fgsea(GMTS, R, 10000, minSize = 3):\n",
      "“There were 1 pathways for which P-values were not calculated properly due to unbalanced gene-level statistic values”Warning message in fgsea(GMTS, R, 10000, minSize = 3):\n",
      "“There are duplicate gene names, fgsea may produce unexpected results”Warning message in fgsea(GMTS, R, 10000, minSize = 3):\n",
      "“There are duplicate gene names, fgsea may produce unexpected results”Warning message in fgsea(GMTS, R, 10000, minSize = 3):\n",
      "“There are duplicate gene names, fgsea may produce unexpected results”Warning message in fgsea(GMTS, R, 10000, minSize = 3):\n",
      "“There are duplicate gene names, fgsea may produce unexpected results”Warning message in fgsea(GMTS, R, 10000, minSize = 3):\n",
      "“There are duplicate gene names, fgsea may produce unexpected results”Warning message in fgsea(GMTS, R, 10000, minSize = 3):\n",
      "“There were 1 pathways for which P-values were not calculated properly due to unbalanced gene-level statistic values”Warning message in fgsea(GMTS, R, 10000, minSize = 3):\n",
      "“There are duplicate gene names, fgsea may produce unexpected results”Warning message in fgsea(GMTS, R, 10000, minSize = 3):\n",
      "“There are duplicate gene names, fgsea may produce unexpected results”Warning message in fgsea(GMTS, R, 10000, minSize = 3):\n",
      "“There are duplicate gene names, fgsea may produce unexpected results”Warning message in fgsea(GMTS, R, 10000, minSize = 3):\n",
      "“There are duplicate gene names, fgsea may produce unexpected results”Warning message in fgsea(GMTS, R, 10000, minSize = 3):\n",
      "“There are duplicate gene names, fgsea may produce unexpected results”Warning message in fgsea(GMTS, R, 10000, minSize = 3):\n",
      "“There are duplicate gene names, fgsea may produce unexpected results”Warning message in fgsea(GMTS, R, 10000, minSize = 3):\n",
      "“There are duplicate gene names, fgsea may produce unexpected results”Warning message in fgsea(GMTS, R, 10000, minSize = 3):\n",
      "“There are duplicate gene names, fgsea may produce unexpected results”Warning message in fgsea(GMTS, R, 10000, minSize = 3):\n",
      "“There are duplicate gene names, fgsea may produce unexpected results”Warning message in fgsea(GMTS, R, 10000, minSize = 3):\n",
      "“There are duplicate gene names, fgsea may produce unexpected results”Warning message in fgsea(GMTS, R, 10000, minSize = 3):\n",
      "“There are duplicate gene names, fgsea may produce unexpected results”Warning message in fgsea(GMTS, R, 10000, minSize = 3):\n",
      "“There are duplicate gene names, fgsea may produce unexpected results”"
     ]
    }
   ],
   "source": [
    "# Full Pathway Enrichments\n",
    "e.df <- runAllGSEA(de.df, GMT_list, seed=SEED)\n",
    "write.table(e.df, \"supplement/table11a_enrich_v1.tsv\",sep='\\t', quote = T)\n",
    "\n",
    "# Full Pathway Enrichments for Gene-Sets in Staudt et al\n",
    "e.staudt.df <- runAllGSEA(de.df, gmtPathways(GMTS[4]), seed=SEED)\n",
    "write.table(e.staudt.df, \"supplement/table11b_enrich_staudt.tsv\",sep='\\t', quote = T)\n",
    "\n",
    "# Stricter Pathway Enrichments (ranked by padj*signed FC)\n",
    "e2.df <- runAllGSEA(de.df, GMT_list, how='padj', seed=SEED)\n",
    "write.table(e2.df, \"supplement/table11c_enrich_v2.tsv\",sep='\\t', quote = T)\n",
    "\n",
    "# Stricter Pathway Enrichments (ranked by padj*signed FC) for Gene-Sets in Staudt et al\n",
    "e.staudt.2.df <- runAllGSEA(de.df, gmtPathways(GMTS[4]), how='padj', seed=SEED)\n",
    "write.table(e.staudt.2.df, \"supplement/table11d_enrich_staudt_v2.tsv\",sep='\\t', quote = T)"
   ]
  },
  {
   "cell_type": "markdown",
   "metadata": {},
   "source": [
    "### Fig 2C"
   ]
  },
  {
   "cell_type": "code",
   "execution_count": 26,
   "metadata": {},
   "outputs": [],
   "source": [
    "hm.to.remove <- c(\n",
    "    \"HALLMARK_MYOGENESIS\",\n",
    "    \"HALLMARK_KRAS_SIGNALING_UP\",\n",
    "    \"HALLMARK_KRAS_SIGNALING_DN\",\n",
    "    \"HALLMARK_ESTROGEN_RESPONSE_LATE\",\n",
    "    \"HALLMARK_ESTROGEN_RESPONSE_EARLY\",\n",
    "    \"HALLMARK_XENOBIOTIC_METABOLISM\",\n",
    "    \"HALLMARK_ANGIOGENESIS\",\n",
    "    \"HALLMARK_APICAL_JUNCTION\",\n",
    "    \"HALLMARK_COAGULATION\",\n",
    "    \"HALLMARK_UV_RESPONSE_DN\",\n",
    "    \"HALLMARK_ALLOGRAFT_REJECTION\",\n",
    "    \"HALLMARK_G2M_CHECKPOINT\",\n",
    "    \"HALLMARK_SPERMATOGENESIS\",\n",
    "    \"HALLMARK_UV_RESPONSE_UP\"\n",
    ")\n",
    "\n",
    "kegg.to.keep <- c(\n",
    "    \"KEGG_CYTOSOLIC_DNA_SENSING_PATHWAY\",\n",
    "    \"KEGG_TGF_BETA_SIGNALING_PATHWAY\",\n",
    "    \"KEGG_JAK_STAT_SIGNALING_PATHWAY\",\n",
    "    \"KEGG_RIBOSOME\"\n",
    ")\n",
    "\n",
    "staudt.plot.pathways <- c(\n",
    "    \"B_cell_memory_Newman\",\n",
    "    \"Blimp_proliferaton_repressed\",\n",
    "    \"Blood_Modules-3.3_Inflammation-2\",\n",
    "    \"Blood_Module−1.5_Myeloid_lineage−1\",\n",
    "    \"MCL_proliferation_survival\",\n",
    "    \"Dendritic_cell_CD123pos_blood\",\n",
    "    \"Dendritic_cell_activated_Newman\",\n",
    "    \"Macrophage_M1_Newman\",\n",
    "    \"Macrophage_M2_Newman\",\n",
    "    \"Monocyte_Newman\",\n",
    "    \"Cell_cycle_Liu\",\n",
    "    \"Regulatory_T cell_Newman\",\n",
    "    \"CD4_T_cell_memory_activated_Newman\",\n",
    "    \"CD8_T_cell_Newman\",\n",
    "    \"NK_cell_resting_Newman\",\n",
    "    \"NK_cell_activated_Newman\",\n",
    "    \"Gamma_delta_T cell_Newman\",\n",
    "    \"CD8_T_effectorUp_memoryIm_NaiveDn\",\n",
    "    \"XBP1_target_secretory\"\n",
    ")"
   ]
  },
  {
   "cell_type": "markdown",
   "metadata": {},
   "source": [
    "#### Fig2C Balloon Plot with fGSEA Ranked by LogFC"
   ]
  },
  {
   "cell_type": "code",
   "execution_count": 40,
   "metadata": {},
   "outputs": [],
   "source": [
    "# Load Enrichment\n",
    "e.df <- read.table(\"supplement/table11a_enrich_v1.tsv\")\n",
    "e.stuadt.join.df <- read.table(\"supplement/table11b_enrich_staudt.tsv\",sep='\\t',header=T)\n",
    "\n",
    "# Rename kegg, hallmark, & myeloma signatures\n",
    "kegg.e.df <- e.df[grepl(\"^KEGG\", e.df$pathway),]\n",
    "kegg.e.df <- kegg.e.df[kegg.e.df$pathway %in% kegg.to.keep,]\n",
    "\n",
    "hm.e.df <- e.df[grepl(\"^HALLMARK\", e.df$pathway),]\n",
    "hm.e.df <- hm.e.df[!hm.e.df$pathway %in% hm.to.remove,]\n",
    "\n",
    "mm.e.df <- e.df[grepl(\"^MYELOMA\", e.df$pathway),]\n",
    "mm.e.df <- mm.e.df[grepl(\"UP$\", mm.e.df$pathway),]\n",
    "\n",
    "# Join Sataudt Signatures\n",
    "e.stuadt.filt.join.df <- e.stuadt.join.df[e.stuadt.join.df$pathway %in% staudt.plot.pathways,]\n",
    "\n",
    "# Group Names\n",
    "kegg.e.df$grouping <- \"Cellular Pathways\"\n",
    "hm.e.df$grouping <- \"Cellular Pathways\"\n",
    "mm.e.df$grouping <- \"Myeloma\"\n",
    "e.stuadt.filt.join.df[grepl(\"Newman$\", e.stuadt.filt.join.df$pathway),\"grouping\"] <- \"Immune\"\n",
    "e.stuadt.filt.join.df[!grepl(\"Newman$\", e.stuadt.filt.join.df$pathway),\"grouping\"] <- \"Cellular Pathways\"\n",
    "\n",
    "e.stuadt.filt.join.df[e.stuadt.filt.join.df$pathway==\"Dendritic_cell_CD123pos_blood\",\"grouping\"] <- \"Immune\"\n",
    "e.stuadt.filt.join.df[e.stuadt.filt.join.df$pathway==\"CD8_T_effectorUp_memoryIm_NaiveDn\",\"grouping\"] <- \"Immune\"\n",
    "\n",
    "# Intersect for Common Columns\n",
    "common_cols <- intersect(colnames(kegg.e.df), colnames(e.stuadt.filt.join.df))\n",
    "\n",
    "full.e.df <- rbind(\n",
    "  kegg.e.df[,common_cols],\n",
    "  hm.e.df[,common_cols],\n",
    "  mm.e.df[,common_cols],\n",
    "  e.stuadt.filt.join.df[,common_cols]\n",
    ")\n",
    "\n",
    "full.e.df$grouping <- as.factor(full.e.df$grouping)\n",
    "full.e.df$id <- as.factor(full.e.df$id)\n",
    "\n",
    "# Merge Renamed Pathways\n",
    "rename.df <- read.table('../data/ref/rename_pathways.tsv',sep='\\t',header=T)\n",
    "x <- merge(full.e.df, rename.df[,c('pathway','new_pathway_name')])\n",
    "x$pathway <- x$new_pathway_name\n",
    "x$id <- factor(sapply(x$id, addName), levels = c(\"HNT\", \"HMC\", \"FMD\", \"HKR\", \"CND\", \"HNF\"))"
   ]
  },
  {
   "cell_type": "code",
   "execution_count": 43,
   "metadata": {
    "scrolled": false
   },
   "outputs": [
    {
     "data": {
      "text/html": [
       "<strong>png:</strong> 2"
      ],
      "text/latex": [
       "\\textbf{png:} 2"
      ],
      "text/markdown": [
       "**png:** 2"
      ],
      "text/plain": [
       "png \n",
       "  2 "
      ]
     },
     "metadata": {},
     "output_type": "display_data"
    }
   ],
   "source": [
    "pdf(\"figures/fig2h_balloon_figure.pdf\", width=7, height=17) \n",
    "plotGSEA_v2(x, h=18, w=8)\n",
    "dev.off()"
   ]
  },
  {
   "cell_type": "markdown",
   "metadata": {},
   "source": [
    "#### Fig2C Balloon Plot with fGSEA Ranked by LogFC * -log10(adj. pval)"
   ]
  },
  {
   "cell_type": "code",
   "execution_count": 33,
   "metadata": {},
   "outputs": [],
   "source": [
    "# Load Enrichment\n",
    "e.df <- read.table(\"supplement/table11c_enrich_v2.tsv\")\n",
    "e.stuadt.join.df <- read.table(\"supplement/table11d_enrich_staudt_v2.tsv\",sep='\\t',header=T)\n",
    "\n",
    "# Rename kegg, hallmark, & myeloma signatures\n",
    "kegg.e.df <- e.df[grepl(\"^KEGG\", e.df$pathway),]\n",
    "kegg.e.df <- kegg.e.df[kegg.e.df$pathway %in% kegg.to.keep,]\n",
    "\n",
    "hm.e.df <- e.df[grepl(\"^HALLMARK\", e.df$pathway),]\n",
    "hm.e.df <- hm.e.df[!hm.e.df$pathway %in% hm.to.remove,]\n",
    "\n",
    "mm.e.df <- e.df[grepl(\"^MYELOMA\", e.df$pathway),]\n",
    "mm.e.df <- mm.e.df[grepl(\"UP$\", mm.e.df$pathway),]\n",
    "\n",
    "# Join Sataudt Signatures\n",
    "e.stuadt.filt.join.df <- e.stuadt.join.df[e.stuadt.join.df$pathway %in% staudt.plot.pathways,]\n",
    "\n",
    "# Group Names\n",
    "kegg.e.df$grouping <- \"Cellular Pathways\"\n",
    "hm.e.df$grouping <- \"Cellular Pathways\"\n",
    "mm.e.df$grouping <- \"Myeloma\"\n",
    "e.stuadt.filt.join.df[grepl(\"Newman$\", e.stuadt.filt.join.df$pathway),\"grouping\"] <- \"Immune\"\n",
    "e.stuadt.filt.join.df[!grepl(\"Newman$\", e.stuadt.filt.join.df$pathway),\"grouping\"] <- \"Cellular Pathways\"\n",
    "\n",
    "e.stuadt.filt.join.df[e.stuadt.filt.join.df$pathway==\"Dendritic_cell_CD123pos_blood\",\"grouping\"] <- \"Immune\"\n",
    "e.stuadt.filt.join.df[e.stuadt.filt.join.df$pathway==\"CD8_T_effectorUp_memoryIm_NaiveDn\",\"grouping\"] <- \"Immune\"\n",
    "\n",
    "# Intersect for Common Columns\n",
    "common_cols <- intersect(colnames(kegg.e.df), colnames(e.stuadt.filt.join.df))\n",
    "\n",
    "full.e.df <- rbind(\n",
    "  kegg.e.df[,common_cols],\n",
    "  hm.e.df[,common_cols],\n",
    "  mm.e.df[,common_cols],\n",
    "  e.stuadt.filt.join.df[,common_cols]\n",
    ")\n",
    "\n",
    "full.e.df$grouping <- as.factor(full.e.df$grouping)\n",
    "full.e.df$id <- as.factor(full.e.df$id)\n",
    "\n",
    "# Merge Renamed Pathways\n",
    "rename.df <- read.table('../data/ref/rename_pathways.tsv',sep='\\t',header=T)\n",
    "x <- merge(full.e.df, rename.df[,c('pathway','new_pathway_name')])\n",
    "x$pathway <- x$new_pathway_name\n",
    "x$id <- factor(sapply(x$id, addName), levels = c(\"HNT\", \"HMC\", \"FMD\", \"HKR\", \"CND\", \"HNF\"))"
   ]
  },
  {
   "cell_type": "code",
   "execution_count": 34,
   "metadata": {
    "scrolled": false
   },
   "outputs": [
    {
     "data": {
      "text/html": [
       "<strong>png:</strong> 2"
      ],
      "text/latex": [
       "\\textbf{png:} 2"
      ],
      "text/markdown": [
       "**png:** 2"
      ],
      "text/plain": [
       "png \n",
       "  2 "
      ]
     },
     "metadata": {},
     "output_type": "display_data"
    }
   ],
   "source": [
    "pdf(\"figures/figS4a_balloon_figure_v2.pdf\", width=7, height=17) \n",
    "plotGSEA_v2(x, h=18, w=8)\n",
    "dev.off()"
   ]
  },
  {
   "cell_type": "markdown",
   "metadata": {},
   "source": [
    "#### Supplemental plots of all other pathways"
   ]
  },
  {
   "cell_type": "code",
   "execution_count": 35,
   "metadata": {},
   "outputs": [],
   "source": [
    "e.df <- read.table(\"supplement/table11a_enrich_v1.tsv\")\n",
    "e.df$id <- factor(sapply(e.df$id, addName), levels = c(\"HNT\", \"HMC\", \"FMD\", \"HKR\", \"CND\", \"HNF\"))"
   ]
  },
  {
   "cell_type": "code",
   "execution_count": 36,
   "metadata": {},
   "outputs": [
    {
     "data": {
      "text/html": [
       "<strong>png:</strong> 2"
      ],
      "text/latex": [
       "\\textbf{png:} 2"
      ],
      "text/markdown": [
       "**png:** 2"
      ],
      "text/plain": [
       "png \n",
       "  2 "
      ]
     },
     "metadata": {},
     "output_type": "display_data"
    },
    {
     "data": {
      "text/html": [
       "<strong>png:</strong> 2"
      ],
      "text/latex": [
       "\\textbf{png:} 2"
      ],
      "text/markdown": [
       "**png:** 2"
      ],
      "text/plain": [
       "png \n",
       "  2 "
      ]
     },
     "metadata": {},
     "output_type": "display_data"
    },
    {
     "data": {
      "text/html": [
       "<strong>png:</strong> 2"
      ],
      "text/latex": [
       "\\textbf{png:} 2"
      ],
      "text/markdown": [
       "**png:** 2"
      ],
      "text/plain": [
       "png \n",
       "  2 "
      ]
     },
     "metadata": {},
     "output_type": "display_data"
    },
    {
     "data": {
      "text/html": [
       "<strong>png:</strong> 2"
      ],
      "text/latex": [
       "\\textbf{png:} 2"
      ],
      "text/markdown": [
       "**png:** 2"
      ],
      "text/plain": [
       "png \n",
       "  2 "
      ]
     },
     "metadata": {},
     "output_type": "display_data"
    }
   ],
   "source": [
    "pdf(\"figures/figS5a_balloon_hallmark.pdf\", width=8, height=10) \n",
    "plotGSEA(e.df, filter='HALLMARK', w=10, h=10, fix_id=F)\n",
    "dev.off()\n",
    "\n",
    "pdf(\"figures/figS5b_balloon_kegg.pdf\", width=10, height=18) \n",
    "plotGSEA(e.df, filter='KEGG', w=10, h=20, fix_id=F)\n",
    "dev.off()\n",
    "\n",
    "e.df.mm <- dplyr::filter(e.df, grepl(\"MYELOMA\", pathway))\n",
    "\n",
    "pdf(\"figures/figS5c_balloon_myeloma_up.pdf\", width=8, height=5) \n",
    "plotGSEA(e.df.mm, filter='UP', w=8, h=5, fix_id=F)\n",
    "dev.off()\n",
    "\n",
    "pdf(\"figures/figS5d_balloon_myeloma_down.pdf\", width=8, height=5) \n",
    "plotGSEA(e.df.mm, filter='DOWN', w=8, h=5, fix_id=F)\n",
    "dev.off()"
   ]
  },
  {
   "cell_type": "markdown",
   "metadata": {},
   "source": [
    "---\n",
    "## 4. Myeloma Signatures\n",
    "\n",
    "* Mean expression of genes in Sonnevald + Zhan"
   ]
  },
  {
   "cell_type": "code",
   "execution_count": 16,
   "metadata": {},
   "outputs": [],
   "source": [
    "sigs.full.df <- read.table(\"supplement/table10c_combined_mean_sigs.tsv\",sep='\\t',header=T,row.names=1)\n",
    "sigs.full.df$consensus_nmf <- factor(sapply(sigs.full.df$consensus_nmf, addName), levels = c(\"HNT\", \"HMC\", \"FMD\", \"HKR\", \"CND\", \"HNF\"))"
   ]
  },
  {
   "cell_type": "code",
   "execution_count": 19,
   "metadata": {
    "scrolled": false
   },
   "outputs": [
    {
     "data": {
      "text/html": [
       "<strong>png:</strong> 2"
      ],
      "text/latex": [
       "\\textbf{png:} 2"
      ],
      "text/markdown": [
       "**png:** 2"
      ],
      "text/plain": [
       "png \n",
       "  2 "
      ]
     },
     "metadata": {},
     "output_type": "display_data"
    }
   ],
   "source": [
    "p1 <- plotSig(sigs.full.df, \"CD.2\", list(  c(\"HNT\",\"CND\"), c(\"HMC\",\"CND\"), c(\"FMD\",\"CND\"), c(\"HKR\",\"CND\"), c(\"HNF\",\"CND\")), label.y=1, label.x=4.5, ylim.min=1, label.pos='none')\n",
    "p2 <- plotSig(sigs.full.df, \"CD.1\", list(  c(\"HNT\",\"CND\"), c(\"HMC\",\"CND\"), c(\"FMD\",\"CND\"), c(\"HKR\",\"CND\"), c(\"HNF\",\"CND\")), label.y=1, label.x=4.5, ylim.min=1, label.pos='none')\n",
    "p3 <- plotSig(sigs.full.df, \"LB\", list(c(\"FMD\",\"CND\"), c(\"CND\",\"HNF\"),c(\"HKR\",\"HNF\")), label.y=1, label.x=4.5, ylim.min=1, label.pos='none')\n",
    "p4 <- plotSig(sigs.full.df, \"HP\", list( c(\"HNT\",\"HMC\"), c(\"HNT\",\"FMD\"), c(\"HNT\",\"CND\"), c(\"HNT\",\"HKR\"), c(\"HNT\",\"HNF\")), label.x=4.5, label.y=1.5, ylim.min=1.5, label.pos='none')\n",
    "p5 <- plotSig(sigs.full.df, \"MS\", list(  c(\"HNT\",\"FMD\"), c(\"HMC\",\"FMD\"),   c(\"FMD\",\"HNF\"),  c(\"FMD\",\"HKR\"), c(\"FMD\",\"CND\")), label.x=4.5, label.y=0, label.pos='none')\n",
    "p6 <- plotSig(sigs.full.df, \"PRL3\", list(  c(\"HNT\",\"FMD\"), c(\"HMC\",\"FMD\"),   c(\"CND\",\"HNF\"),  c(\"CND\",\"HKR\"), c(\"FMD\",\"CND\")), label.x=4.5, label.y=0.75, ylim.min=.75, label.pos='none')\n",
    "\n",
    "pdf('figures/figS4b_myeloma_mean_sigs.pdf', width=8, height=30)\n",
    "ggarrange(p1,p2,p3,p4,p5,p6,labels = c(\"A\", \"B\", \"C\", \"D\", \"E\", \"F\"), ncol = 1, nrow = 6)\n",
    "dev.off()"
   ]
  }
 ],
 "metadata": {
  "kernelspec": {
   "display_name": "R",
   "language": "R",
   "name": "ir"
  },
  "language_info": {
   "codemirror_mode": "r",
   "file_extension": ".r",
   "mimetype": "text/x-r-source",
   "name": "R",
   "pygments_lexer": "r",
   "version": "3.6.1"
  }
 },
 "nbformat": 4,
 "nbformat_minor": 2
}
