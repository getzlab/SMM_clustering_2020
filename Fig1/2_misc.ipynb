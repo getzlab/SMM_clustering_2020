{
 "cells": [
  {
   "cell_type": "code",
   "execution_count": 1,
   "metadata": {},
   "outputs": [],
   "source": [
    "suppressMessages(library('ggplot2'))\n",
    "suppressMessages(library('ggpubr'))"
   ]
  },
  {
   "cell_type": "markdown",
   "metadata": {},
   "source": [
    "## 1. Violin Plot for Age/Sex\n",
    "---"
   ]
  },
  {
   "cell_type": "code",
   "execution_count": 2,
   "metadata": {},
   "outputs": [],
   "source": [
    "meta.df <- read.table(\"../data/raw/SMM_study_final_list_for_clustering.txt\", sep='\\t', header=T)\n",
    "meta.df$fill <- ifelse(meta.df$SEX=='M', '#55CDFC','#F7A8B8')"
   ]
  },
  {
   "cell_type": "code",
   "execution_count": 4,
   "metadata": {},
   "outputs": [
    {
     "data": {
      "text/html": [
       "<strong>png:</strong> 2"
      ],
      "text/latex": [
       "\\textbf{png:} 2"
      ],
      "text/markdown": [
       "**png:** 2"
      ],
      "text/plain": [
       "png \n",
       "  2 "
      ]
     },
     "metadata": {},
     "output_type": "display_data"
    }
   ],
   "source": [
    "pdf('figures/figS1d_age_sex_violin.pdf', width=3, height=3)\n",
    "options(repr.plot.width=3, repr.plot.height=3)\n",
    "\n",
    "ggplot(meta.df, aes(x=SEX, y=AGE, fill=SEX)) + \n",
    "  geom_violin(trim=F) +\n",
    "  labs(title=\"\",x=\"\", y = \"Age\") +\n",
    "  theme_classic() +\n",
    "  scale_fill_manual(values = c(\"#F7A8B8\",\"#55CDFC\")) +\n",
    "  geom_boxplot(width=0.125, fill='white') +\n",
    "  theme(legend.position=\"none\")\n",
    "dev.off()"
   ]
  },
  {
   "cell_type": "code",
   "execution_count": null,
   "metadata": {},
   "outputs": [],
   "source": []
  }
 ],
 "metadata": {
  "kernelspec": {
   "display_name": "R",
   "language": "R",
   "name": "ir"
  },
  "language_info": {
   "codemirror_mode": "r",
   "file_extension": ".r",
   "mimetype": "text/x-r-source",
   "name": "R",
   "pygments_lexer": "r",
   "version": "3.6.1"
  }
 },
 "nbformat": 4,
 "nbformat_minor": 4
}
