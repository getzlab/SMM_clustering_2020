{
 "cells": [
  {
   "cell_type": "code",
   "execution_count": 1,
   "metadata": {},
   "outputs": [],
   "source": [
    "source(\"../funcs/limma.R\")\n",
    "source(\"../funcs/funcsR.R\")"
   ]
  },
  {
   "cell_type": "markdown",
   "metadata": {},
   "source": [
    "---\n",
    "# Mutational Signatures Plots\n",
    "\n",
    "Plots for mutational signatures derived from WES samples in [Bustoros et al (2020)](https://www.ncbi.nlm.nih.gov/pmc/articles/PMC7367550/).\n",
    "\n",
    "**Author**: [Shankara Anand](sanand@broadinstitute.org)"
   ]
  },
  {
   "cell_type": "code",
   "execution_count": 27,
   "metadata": {},
   "outputs": [],
   "source": [
    "mut.df <- read.delim(\"supplement/table8_mut_sigs.tsv\", sep='\\t', header=T, row.names=1)"
   ]
  },
  {
   "cell_type": "code",
   "execution_count": 28,
   "metadata": {},
   "outputs": [],
   "source": [
    "addName <- function(s){\n",
    "    if(s==\"C1\"){\n",
    "        return(\"HNT\")\n",
    "    }else if(s=='C2'){\n",
    "        return(\"HMC\")\n",
    "    }else if(s=='C3'){\n",
    "        return(\"FMD\")\n",
    "    }else if(s=='C4'){\n",
    "        return(\"HKR\")\n",
    "    }else if(s=='C5'){\n",
    "        return(\"CND\")\n",
    "    }else if(s=='C6'){\n",
    "        return(\"HNF\")\n",
    "    }\n",
    "}\n",
    "        \n",
    "mut.df$id <- factor(sapply(mut.df$consensus_nmf, addName), levels = c(\"HNT\", \"HMC\", \"FMD\", \"HKR\", \"CND\", \"HNF\"))"
   ]
  },
  {
   "cell_type": "code",
   "execution_count": 29,
   "metadata": {},
   "outputs": [],
   "source": [
    "library(scales)"
   ]
  },
  {
   "cell_type": "code",
   "execution_count": 32,
   "metadata": {},
   "outputs": [
    {
     "data": {
      "text/html": [
       "<pre class=language-r><code>function (base = 10, sides = \"bl\", outside = FALSE, scaled = TRUE, \n",
       "<span style=white-space:pre-wrap>    short = unit(0.1, \"cm\"), mid = unit(0.2, \"cm\"), long = unit(0.3, </span>\n",
       "<span style=white-space:pre-wrap>        \"cm\"), colour = \"black\", size = 0.5, linetype = 1, alpha = 1, </span>\n",
       "<span style=white-space:pre-wrap>    color = NULL, ...) </span>\n",
       "{\n",
       "<span style=white-space:pre-wrap>    if (!is.null(color)) </span>\n",
       "<span style=white-space:pre-wrap>        colour &lt;- color</span>\n",
       "<span style=white-space:pre-wrap>    layer(data = dummy_data(), mapping = NULL, stat = StatIdentity, </span>\n",
       "<span style=white-space:pre-wrap>        geom = GeomLogticks, position = PositionIdentity, show.legend = FALSE, </span>\n",
       "<span style=white-space:pre-wrap>        inherit.aes = FALSE, params = list(base = base, sides = sides, </span>\n",
       "<span style=white-space:pre-wrap>            outside = outside, scaled = scaled, short = short, </span>\n",
       "<span style=white-space:pre-wrap>            mid = mid, long = long, colour = colour, size = size, </span>\n",
       "<span style=white-space:pre-wrap>            linetype = linetype, alpha = alpha, ...))</span>\n",
       "}</code></pre>"
      ],
      "text/latex": [
       "\\begin{minted}{r}\n",
       "function (base = 10, sides = \"bl\", outside = FALSE, scaled = TRUE, \n",
       "    short = unit(0.1, \"cm\"), mid = unit(0.2, \"cm\"), long = unit(0.3, \n",
       "        \"cm\"), colour = \"black\", size = 0.5, linetype = 1, alpha = 1, \n",
       "    color = NULL, ...) \n",
       "\\{\n",
       "    if (!is.null(color)) \n",
       "        colour <- color\n",
       "    layer(data = dummy\\_data(), mapping = NULL, stat = StatIdentity, \n",
       "        geom = GeomLogticks, position = PositionIdentity, show.legend = FALSE, \n",
       "        inherit.aes = FALSE, params = list(base = base, sides = sides, \n",
       "            outside = outside, scaled = scaled, short = short, \n",
       "            mid = mid, long = long, colour = colour, size = size, \n",
       "            linetype = linetype, alpha = alpha, ...))\n",
       "\\}\n",
       "\\end{minted}"
      ],
      "text/markdown": [
       "```r\n",
       "function (base = 10, sides = \"bl\", outside = FALSE, scaled = TRUE, \n",
       "    short = unit(0.1, \"cm\"), mid = unit(0.2, \"cm\"), long = unit(0.3, \n",
       "        \"cm\"), colour = \"black\", size = 0.5, linetype = 1, alpha = 1, \n",
       "    color = NULL, ...) \n",
       "{\n",
       "    if (!is.null(color)) \n",
       "        colour <- color\n",
       "    layer(data = dummy_data(), mapping = NULL, stat = StatIdentity, \n",
       "        geom = GeomLogticks, position = PositionIdentity, show.legend = FALSE, \n",
       "        inherit.aes = FALSE, params = list(base = base, sides = sides, \n",
       "            outside = outside, scaled = scaled, short = short, \n",
       "            mid = mid, long = long, colour = colour, size = size, \n",
       "            linetype = linetype, alpha = alpha, ...))\n",
       "}\n",
       "```"
      ],
      "text/plain": [
       "function (base = 10, sides = \"bl\", outside = FALSE, scaled = TRUE, \n",
       "    short = unit(0.1, \"cm\"), mid = unit(0.2, \"cm\"), long = unit(0.3, \n",
       "        \"cm\"), colour = \"black\", size = 0.5, linetype = 1, alpha = 1, \n",
       "    color = NULL, ...) \n",
       "{\n",
       "    if (!is.null(color)) \n",
       "        colour <- color\n",
       "    layer(data = dummy_data(), mapping = NULL, stat = StatIdentity, \n",
       "        geom = GeomLogticks, position = PositionIdentity, show.legend = FALSE, \n",
       "        inherit.aes = FALSE, params = list(base = base, sides = sides, \n",
       "            outside = outside, scaled = scaled, short = short, \n",
       "            mid = mid, long = long, colour = colour, size = size, \n",
       "            linetype = linetype, alpha = alpha, ...))\n",
       "}\n",
       "<bytecode: 0x55d22491f6a8>\n",
       "<environment: namespace:ggplot2>"
      ]
     },
     "metadata": {},
     "output_type": "display_data"
    }
   ],
   "source": [
    "annotation_logticks"
   ]
  },
  {
   "cell_type": "code",
   "execution_count": 37,
   "metadata": {},
   "outputs": [
    {
     "name": "stderr",
     "output_type": "stream",
     "text": [
      "Scale for 'y' is already present. Adding another scale for 'y', which will\n",
      "replace the existing scale.\n",
      "Warning message:\n",
      "“Computation failed in `stat_signif()`:\n",
      "missing value where TRUE/FALSE needed”Warning message:\n",
      "“Computation failed in `stat_signif()`:\n",
      "missing value where TRUE/FALSE needed”Warning message:\n",
      "“Removed 5 rows containing missing values (geom_point).”"
     ]
    },
    {
     "data": {
      "text/html": [
       "<strong>png:</strong> 2"
      ],
      "text/latex": [
       "\\textbf{png:} 2"
      ],
      "text/markdown": [
       "**png:** 2"
      ],
      "text/plain": [
       "png \n",
       "  2 "
      ]
     },
     "metadata": {},
     "output_type": "display_data"
    }
   ],
   "source": [
    "p1 <- plotSig(mut.df, \"Aging.1_5\", NA, x=\"id\", label.pos='none', ylab='Weights', label.y = 0)\n",
    "p2 <- plotSig(mut.df, \"APOBEC.activity.2_13\", list(  c(\"HMC\",\"CND\"), c(\"FMD\",\"CND\"), c(\"HNT\",\"HMC\")), x=\"id\", label.pos='none', ylab='Weights', label.y = 0)\n",
    "p3 <- plotSig(mut.df, \"AID.84_85\", NA, x=\"id\", label.pos='none', ylab='Weights', label.y = 0)\n",
    "\n",
    "p1 <- p1 + scale_y_log10() + annotation_logticks(sides='l')\n",
    "#p2 <- p2 + scale_y_log10() + annotation_logticks(sides='l')\n",
    "#p3 <- p3 + scale_y_log10(breaks=c(.1,1,10,100)) + annotation_logticks(sides='l')\n",
    "\n",
    "\n",
    "pdf('figures/S3a_mut_sigs_barplots.pdf', width=8, height=15)\n",
    "ggarrange(p1,p2,p3,labels = c(\"A\", \"B\", \"C\"), ncol = 1, nrow = 3)\n",
    "dev.off()"
   ]
  },
  {
   "cell_type": "code",
   "execution_count": 8,
   "metadata": {},
   "outputs": [],
   "source": [
    "mut.df$hmc <- ifelse(mut.df$id == \"HMC\", \"+ HMC\", \"- HMC\")\n",
    "mut.df$fmd <- ifelse(mut.df$id == \"FMD\", \"+ FMD\", \"- FMD\")\n",
    "mut.df$bof <- ifelse(mut.df$id %in% c(\"HMC\",\"FMD\"), \"+ HMC/FMD\", \"- HMC/FMD\")"
   ]
  },
  {
   "cell_type": "code",
   "execution_count": 9,
   "metadata": {},
   "outputs": [
    {
     "data": {
      "text/html": [
       "<strong>png:</strong> 2"
      ],
      "text/latex": [
       "\\textbf{png:} 2"
      ],
      "text/markdown": [
       "**png:** 2"
      ],
      "text/plain": [
       "png \n",
       "  2 "
      ]
     },
     "metadata": {},
     "output_type": "display_data"
    }
   ],
   "source": [
    "p1 <- plotSig(mut.df, \"APOBEC.activity.2_13\", list(  c(\"- HMC\",\"+ HMC\")), x=\"hmc\", label.pos='none', ylab='Weights', label.y = 0)\n",
    "p2 <- plotSig(mut.df, \"APOBEC.activity.2_13\", list(  c(\"- FMD\",\"+ FMD\")), x=\"fmd\", label.pos='none', ylab='Weights', label.y = 0)\n",
    "p3 <- plotSig(mut.df, \"APOBEC.activity.2_13\", list(  c(\"- HMC/FMD\",\"+ HMC/FMD\")), x=\"bof\", label.pos='none', ylab='Weights', label.y = 0)\n",
    "\n",
    "pdf('figures/S3b_apobec_pairs_barplots.pdf', width=4, height=12)\n",
    "ggarrange(p1,p2,p3,labels = c(\"A\", \"B\"), ncol = 1, nrow = 3)\n",
    "dev.off()"
   ]
  }
 ],
 "metadata": {
  "kernelspec": {
   "display_name": "R",
   "language": "R",
   "name": "ir"
  },
  "language_info": {
   "codemirror_mode": "r",
   "file_extension": ".r",
   "mimetype": "text/x-r-source",
   "name": "R",
   "pygments_lexer": "r",
   "version": "3.6.1"
  }
 },
 "nbformat": 4,
 "nbformat_minor": 4
}
