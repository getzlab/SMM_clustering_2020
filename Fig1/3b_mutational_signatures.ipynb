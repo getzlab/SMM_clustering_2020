{
 "cells": [
  {
   "cell_type": "code",
   "execution_count": 1,
   "metadata": {},
   "outputs": [],
   "source": [
    "source(\"../funcs/limma.R\")\n",
    "source(\"../funcs/funcsR.R\")\n",
    "library(ggbreak)\n",
    "library(scales)"
   ]
  },
  {
   "cell_type": "markdown",
   "metadata": {},
   "source": [
    "---\n",
    "# Mutational Signatures Plots\n",
    "\n",
    "Plots for mutational signatures derived from WES samples in [Bustoros et al (2020)](https://www.ncbi.nlm.nih.gov/pmc/articles/PMC7367550/).\n",
    "\n",
    "**Author**: [Shankara Anand](sanand@broadinstitute.org)"
   ]
  },
  {
   "cell_type": "code",
   "execution_count": 2,
   "metadata": {},
   "outputs": [],
   "source": [
    "mut.df <- read.delim(\"supplement/table8_mut_sigs.tsv\", sep='\\t', header=T, row.names=1)"
   ]
  },
  {
   "cell_type": "code",
   "execution_count": 7,
   "metadata": {},
   "outputs": [],
   "source": [
    "addName <- function(s){\n",
    "    if(s==\"C1\"){\n",
    "        return(\"HL1\")\n",
    "    }else if(s=='C2'){\n",
    "        return(\"HL2\")\n",
    "    }else if(s=='C3'){\n",
    "        return(\"TL1\")\n",
    "    }else if(s=='C4'){\n",
    "        return(\"HL3\")\n",
    "    }else if(s=='C5'){\n",
    "        return(\"TL2\")\n",
    "    }else if(s=='C6'){\n",
    "        return(\"HL4\")\n",
    "    }\n",
    "}\n",
    "        \n",
    "mut.df$id <- factor(sapply(mut.df$consensus_nmf, addName), levels = c(\"HL1\", \"HL2\", \"TL1\", \"HL3\", \"TL2\", \"HL4\"))"
   ]
  },
  {
   "cell_type": "code",
   "execution_count": 119,
   "metadata": {},
   "outputs": [
    {
     "name": "stderr",
     "output_type": "stream",
     "text": [
      "Warning message:\n",
      "“Computation failed in `stat_signif()`:\n",
      "missing value where TRUE/FALSE needed”Warning message:\n",
      "“Computation failed in `stat_signif()`:\n",
      "missing value where TRUE/FALSE needed”Warning message:\n",
      "“Computation failed in `stat_signif()`:\n",
      "missing value where TRUE/FALSE needed”"
     ]
    },
    {
     "data": {
      "text/html": [
       "<strong>png:</strong> 2"
      ],
      "text/latex": [
       "\\textbf{png:} 2"
      ],
      "text/markdown": [
       "**png:** 2"
      ],
      "text/plain": [
       "png \n",
       "  2 "
      ]
     },
     "metadata": {},
     "output_type": "display_data"
    }
   ],
   "source": [
    "pdf('figures/S1_mut_sigs_barplots_a.pdf', width=8, height=4)\n",
    "p1 <- plotSig(mut.df, \"Aging.1_5\", NA, x=\"id\", label.pos='none', ylab='Weights', label.y = 1700, ylim.max=1800)\n",
    "p1 <- p1 + scale_y_break(c(100,1600), scales=.1, ticklabels=c(75,100,1700,1800))\n",
    "p1\n",
    "dev.off()"
   ]
  },
  {
   "cell_type": "code",
   "execution_count": 120,
   "metadata": {},
   "outputs": [
    {
     "data": {
      "text/html": [
       "<strong>png:</strong> 2"
      ],
      "text/latex": [
       "\\textbf{png:} 2"
      ],
      "text/markdown": [
       "**png:** 2"
      ],
      "text/plain": [
       "png \n",
       "  2 "
      ]
     },
     "metadata": {},
     "output_type": "display_data"
    }
   ],
   "source": [
    "pdf('figures/S1_mut_sigs_barplots_b.pdf', width=8, height=4)\n",
    "p2 <- plotSig(mut.df, \"APOBEC.activity.2_13\", list(  c(\"HMC\",\"CND\"), c(\"FMD\",\"CND\"), c(\"HNT\",\"HMC\")), \n",
    "              x=\"id\", label.pos='none', ylab='Weights', ylim.max=120, label.y=100)\n",
    "p2 <- p2 + scale_y_break(c(25,60), scales=.25, ticklabels=c(75,100))\n",
    "p2\n",
    "dev.off()"
   ]
  },
  {
   "cell_type": "code",
   "execution_count": 121,
   "metadata": {},
   "outputs": [
    {
     "name": "stderr",
     "output_type": "stream",
     "text": [
      "Warning message:\n",
      "“Computation failed in `stat_signif()`:\n",
      "missing value where TRUE/FALSE needed”Warning message:\n",
      "“Computation failed in `stat_signif()`:\n",
      "missing value where TRUE/FALSE needed”Warning message:\n",
      "“Removed 5 rows containing missing values (geom_point).”Warning message:\n",
      "“Computation failed in `stat_signif()`:\n",
      "missing value where TRUE/FALSE needed”Warning message:\n",
      "“Removed 5 rows containing missing values (geom_point).”"
     ]
    },
    {
     "data": {
      "text/html": [
       "<strong>png:</strong> 2"
      ],
      "text/latex": [
       "\\textbf{png:} 2"
      ],
      "text/markdown": [
       "**png:** 2"
      ],
      "text/plain": [
       "png \n",
       "  2 "
      ]
     },
     "metadata": {},
     "output_type": "display_data"
    }
   ],
   "source": [
    "pdf('figures/S1_mut_sigs_barplots_c.pdf', width=8, height=4)\n",
    "p3 <- plotSig(mut.df, \"AID.84_85\", NA, x=\"id\", label.pos='none', ylab='Weights', label.y = 180, ylim.max=200)\n",
    "p3 <- p3 + scale_y_break(c(25,100), scales=.25, ticklabels=c(75,150,200))\n",
    "p3\n",
    "dev.off()"
   ]
  },
  {
   "cell_type": "code",
   "execution_count": 123,
   "metadata": {},
   "outputs": [],
   "source": [
    "mut.df$hmc <- ifelse(mut.df$id == \"HMC\", \"+ HMC\", \"- HMC\")\n",
    "mut.df$fmd <- ifelse(mut.df$id == \"FMD\", \"+ FMD\", \"- FMD\")\n",
    "mut.df$bof <- ifelse(mut.df$id %in% c(\"HMC\",\"FMD\"), \"+ HMC/FMD\", \"- HMC/FMD\")"
   ]
  },
  {
   "cell_type": "code",
   "execution_count": 24,
   "metadata": {},
   "outputs": [
    {
     "name": "stderr",
     "output_type": "stream",
     "text": [
      "Warning message in if (mut.df$id == \"HL1\") TRUE else FALSE:\n",
      "“the condition has length > 1 and only the first element will be used”"
     ]
    },
    {
     "data": {
      "text/html": [
       "FALSE"
      ],
      "text/latex": [
       "FALSE"
      ],
      "text/markdown": [
       "FALSE"
      ],
      "text/plain": [
       "[1] FALSE"
      ]
     },
     "metadata": {},
     "output_type": "display_data"
    }
   ],
   "source": [
    "if (mut.df$id == \"HL1\") TRUE else FALSE"
   ]
  },
  {
   "cell_type": "code",
   "execution_count": 38,
   "metadata": {},
   "outputs": [
    {
     "name": "stdout",
     "output_type": "stream",
     "text": [
      "[1] \"TL2\"\n",
      "[1] \"TL1\"\n",
      "[1] \"HL1\"\n",
      "[1] \"HL4\"\n",
      "[1] \"HL3\"\n",
      "[1] \"HL2\"\n"
     ]
    },
    {
     "name": "stderr",
     "output_type": "stream",
     "text": [
      "Warning message:\n",
      "“Computation failed in `stat_signif()`:\n",
      "missing value where TRUE/FALSE needed”Warning message:\n",
      "“Computation failed in `stat_signif()`:\n",
      "missing value where TRUE/FALSE needed”Warning message:\n",
      "“Computation failed in `stat_signif()`:\n",
      "missing value where TRUE/FALSE needed”Warning message:\n",
      "“Computation failed in `stat_signif()`:\n",
      "missing value where TRUE/FALSE needed”Warning message:\n",
      "“Computation failed in `stat_signif()`:\n",
      "missing value where TRUE/FALSE needed”Warning message:\n",
      "“Computation failed in `stat_signif()`:\n",
      "missing value where TRUE/FALSE needed”"
     ]
    },
    {
     "data": {
      "text/html": [
       "<strong>png:</strong> 2"
      ],
      "text/latex": [
       "\\textbf{png:} 2"
      ],
      "text/markdown": [
       "**png:** 2"
      ],
      "text/plain": [
       "png \n",
       "  2 "
      ]
     },
     "metadata": {},
     "output_type": "display_data"
    }
   ],
   "source": [
    "p = list()\n",
    "idx = 1\n",
    "\n",
    "for (i in unique(mut.df$id)){\n",
    "    mut.df$fix <- ifelse(mut.df$id==i, TRUE, FALSE)\n",
    "    print(i)\n",
    "    p[[idx]] <- plotSig(mut.df, \"APOBEC.activity.2_13\", NA, x=\"fix\", \n",
    "                        label.pos='none', ylab='Weights', label.y = 75, ylim.max=100)\n",
    "    idx = idx+1\n",
    "}\n",
    "\n",
    "pdf('figures/apobec_fdr.pdf', width=6, height=8)\n",
    "ggarrange(p[[1]],p[[2]],p[[3]],p[[4]], p[[5]],p[[6]],\n",
    "          labels = c(\"TL2\",\"TL1\",\"HL1\",\"HL4\",\"HL3\",\"HL2\"), ncol = 2, nrow = 3\n",
    ")\n",
    "dev.off()\n"
   ]
  },
  {
   "cell_type": "code",
   "execution_count": 42,
   "metadata": {},
   "outputs": [
    {
     "name": "stdout",
     "output_type": "stream",
     "text": [
      "[1] \"TL2\"\n",
      "[1] \"TL1\"\n",
      "[1] \"HL1\"\n",
      "[1] \"HL4\"\n",
      "[1] \"HL3\"\n",
      "[1] \"HL2\"\n"
     ]
    },
    {
     "name": "stderr",
     "output_type": "stream",
     "text": [
      "Warning message:\n",
      "“Computation failed in `stat_signif()`:\n",
      "missing value where TRUE/FALSE needed”Warning message:\n",
      "“Computation failed in `stat_signif()`:\n",
      "missing value where TRUE/FALSE needed”Warning message:\n",
      "“Computation failed in `stat_signif()`:\n",
      "missing value where TRUE/FALSE needed”Warning message:\n",
      "“Computation failed in `stat_signif()`:\n",
      "missing value where TRUE/FALSE needed”Warning message:\n",
      "“Computation failed in `stat_signif()`:\n",
      "missing value where TRUE/FALSE needed”Warning message:\n",
      "“Computation failed in `stat_signif()`:\n",
      "missing value where TRUE/FALSE needed”"
     ]
    },
    {
     "data": {
      "text/html": [
       "<strong>png:</strong> 2"
      ],
      "text/latex": [
       "\\textbf{png:} 2"
      ],
      "text/markdown": [
       "**png:** 2"
      ],
      "text/plain": [
       "png \n",
       "  2 "
      ]
     },
     "metadata": {},
     "output_type": "display_data"
    }
   ],
   "source": [
    "p = list()\n",
    "idx = 1\n",
    "\n",
    "for (i in unique(mut.df$id)){\n",
    "    mut.df$fix <- ifelse(mut.df$id==i, TRUE, FALSE)\n",
    "    print(i)\n",
    "    p[[idx]] <- plotSig(mut.df, \"Aging.1_5\", NA, x=\"fix\", \n",
    "                        label.pos='none', ylab='Weights', label.y = 75)\n",
    "    idx = idx+1\n",
    "}\n",
    "\n",
    "pdf('figures/aging_fdr.pdf', width=6, height=8)\n",
    "ggarrange(p[[1]],p[[2]],p[[3]],p[[4]], p[[5]],p[[6]],\n",
    "          labels = c(\"TL2\",\"TL1\",\"HL1\",\"HL4\",\"HL3\",\"HL2\"), ncol = 2, nrow = 3\n",
    ")\n",
    "dev.off()"
   ]
  },
  {
   "cell_type": "code",
   "execution_count": 16,
   "metadata": {},
   "outputs": [
    {
     "name": "stderr",
     "output_type": "stream",
     "text": [
      "Warning message:\n",
      "“Computation failed in `stat_signif()`:\n",
      "missing value where TRUE/FALSE needed”"
     ]
    },
    {
     "data": {
      "image/png": "[encoded data removed]",
      "text/plain": [
       "plot without title"
      ]
     },
     "metadata": {},
     "output_type": "display_data"
    }
   ],
   "source": [
    "p <- plotSig(mut.df, \"APOBEC.activity.2_13\", NA, x=\"id\", label.pos='none', ylab='Weights', label.y = 75, ylim.max=100)\n",
    "p"
   ]
  },
  {
   "cell_type": "code",
   "execution_count": 13,
   "metadata": {},
   "outputs": [
    {
     "name": "stderr",
     "output_type": "stream",
     "text": [
      "Warning message:\n",
      "“Computation failed in `stat_signif()`:\n",
      "missing value where TRUE/FALSE needed”ERROR while rich displaying an object: Error: Insufficient values in manual scale. 6 needed but only 2 provided.\n",
      "\n",
      "Traceback:\n",
      "1. FUN(X[[i]], ...)\n",
      "2. tryCatch(withCallingHandlers({\n",
      " .     if (!mime %in% names(repr::mime2repr)) \n",
      " .         stop(\"No repr_* for mimetype \", mime, \" in repr::mime2repr\")\n",
      " .     rpr <- repr::mime2repr[[mime]](obj)\n",
      " .     if (is.null(rpr)) \n",
      " .         return(NULL)\n",
      " .     prepare_content(is.raw(rpr), rpr)\n",
      " . }, error = error_handler), error = outer_handler)\n",
      "3. tryCatchList(expr, classes, parentenv, handlers)\n",
      "4. tryCatchOne(expr, names, parentenv, handlers[[1L]])\n",
      "5. doTryCatch(return(expr), name, parentenv, handler)\n",
      "6. withCallingHandlers({\n",
      " .     if (!mime %in% names(repr::mime2repr)) \n",
      " .         stop(\"No repr_* for mimetype \", mime, \" in repr::mime2repr\")\n",
      " .     rpr <- repr::mime2repr[[mime]](obj)\n",
      " .     if (is.null(rpr)) \n",
      " .         return(NULL)\n",
      " .     prepare_content(is.raw(rpr), rpr)\n",
      " . }, error = error_handler)\n",
      "7. repr::mime2repr[[mime]](obj)\n",
      "8. repr_text.default(obj)\n",
      "9. paste(capture.output(print(obj)), collapse = \"\\n\")\n",
      "10. capture.output(print(obj))\n",
      "11. evalVis(expr)\n",
      "12. withVisible(eval(expr, pf))\n",
      "13. eval(expr, pf)\n",
      "14. eval(expr, pf)\n",
      "15. print(obj)\n",
      "16. print.ggplot(obj)\n",
      "17. ggplot_build(x)\n",
      "18. ggplot_build.ggplot(x)\n",
      "19. lapply(data, scales_map_df, scales = npscales)\n",
      "20. FUN(X[[i]], ...)\n",
      "21. unlist(lapply(scales$scales, function(scale) scale$map_df(df = df)), \n",
      "  .     recursive = FALSE)\n",
      "22. lapply(scales$scales, function(scale) scale$map_df(df = df))\n",
      "23. FUN(X[[i]], ...)\n",
      "24. scale$map_df(df = df)\n",
      "25. f(..., self = self)\n",
      "26. lapply(aesthetics, function(j) self$map(df[[j]]))\n",
      "27. FUN(X[[i]], ...)\n",
      "28. self$map(df[[j]])\n",
      "29. f(..., self = self)\n",
      "30. self$palette(n)\n",
      "31. f(...)\n",
      "32. abort(glue(\"Insufficient values in manual scale. {n} needed but only {length(values)} provided.\"))\n",
      "33. signal_abort(cnd)\n"
     ]
    },
    {
     "data": {
      "image/png": "[encoded data removed]",
      "text/plain": [
       "plot without title"
      ]
     },
     "metadata": {},
     "output_type": "display_data"
    }
   ],
   "source": [
    "p <- plotSig(mut.df, \"APOBEC.activity.2_13\", NA, x=\"id\", label.pos='none', ylab='Weights', label.y = 75, ylim.max=100, palette=c('lightblue','darkorange'))\n",
    "#p <- p + scale_y_break(c(25,55), scales=.25, ticklabels=c(65, 85))\n",
    "p"
   ]
  },
  {
   "cell_type": "code",
   "execution_count": 143,
   "metadata": {},
   "outputs": [
    {
     "name": "stderr",
     "output_type": "stream",
     "text": [
      "Warning message:\n",
      "“Computation failed in `stat_signif()`:\n",
      "missing value where TRUE/FALSE needed”Warning message:\n",
      "“Computation failed in `stat_signif()`:\n",
      "missing value where TRUE/FALSE needed”Warning message:\n",
      "“Computation failed in `stat_signif()`:\n",
      "missing value where TRUE/FALSE needed”"
     ]
    },
    {
     "data": {
      "text/html": [
       "<strong>png:</strong> 2"
      ],
      "text/latex": [
       "\\textbf{png:} 2"
      ],
      "text/markdown": [
       "**png:** 2"
      ],
      "text/plain": [
       "png \n",
       "  2 "
      ]
     },
     "metadata": {},
     "output_type": "display_data"
    }
   ],
   "source": [
    "pdf('figures/S1_apobec_mut_sigs.pdf', width=4, height=4)\n",
    "p <- plotSig(mut.df, \"APOBEC.activity.2_13\", NA, \n",
    "             x=\"bof\", label.pos='none', ylab='Weights', label.y = 75, ylim.max=100, palette=c('lightblue','darkorange'))\n",
    "p <- p + scale_y_break(c(25,55), scales=.25, ticklabels=c(65, 85))\n",
    "p\n",
    "dev.off()"
   ]
  },
  {
   "cell_type": "code",
   "execution_count": 9,
   "metadata": {},
   "outputs": [
    {
     "data": {
      "text/html": [
       "<strong>png:</strong> 2"
      ],
      "text/latex": [
       "\\textbf{png:} 2"
      ],
      "text/markdown": [
       "**png:** 2"
      ],
      "text/plain": [
       "png \n",
       "  2 "
      ]
     },
     "metadata": {},
     "output_type": "display_data"
    }
   ],
   "source": [
    "p1 <- plotSig(mut.df, \"APOBEC.activity.2_13\", list(  c(\"- HMC\",\"+ HMC\")), x=\"hmc\", label.pos='none', ylab='Weights', label.y = 0)\n",
    "p2 <- plotSig(mut.df, \"APOBEC.activity.2_13\", list(  c(\"- FMD\",\"+ FMD\")), x=\"fmd\", label.pos='none', ylab='Weights', label.y = 0)\n",
    "p3 <- plotSig(mut.df, \"APOBEC.activity.2_13\", list(  c(\"- HMC/FMD\",\"+ HMC/FMD\")), x=\"bof\", label.pos='none', ylab='Weights', label.y = 0)\n",
    "\n",
    "pdf('figures/S3b_apobec_pairs_barplots.pdf', width=4, height=12)\n",
    "ggarrange(p1,p2,p3,labels = c(\"A\", \"B\"), ncol = 1, nrow = 3)\n",
    "dev.off()"
   ]
  }
 ],
 "metadata": {
  "kernelspec": {
   "display_name": "R",
   "language": "R",
   "name": "ir"
  },
  "language_info": {
   "codemirror_mode": "r",
   "file_extension": ".r",
   "mimetype": "text/x-r-source",
   "name": "R",
   "pygments_lexer": "r",
   "version": "3.6.1"
  }
 },
 "nbformat": 4,
 "nbformat_minor": 4
}
